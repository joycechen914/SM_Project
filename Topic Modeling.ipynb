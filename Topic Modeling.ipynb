{
 "cells": [
  {
   "cell_type": "code",
   "execution_count": 1,
   "metadata": {},
   "outputs": [],
   "source": [
    "import re\n",
    "import numpy as np\n",
    "import pandas as pd\n",
    "from pprint import pprint\n",
    "\n",
    "# Gensim\n",
    "import gensim\n",
    "import gensim.corpora as corpora\n",
    "from gensim.utils import simple_preprocess\n",
    "from gensim.models import CoherenceModel\n",
    "from gensim.models.wrappers import LdaMallet\n",
    "\n",
    "# spacy for lemmatization\n",
    "import spacy\n",
    "\n",
    "# Plotting tools\n",
    "import pyLDAvis\n",
    "import pyLDAvis.gensim  \n",
    "import matplotlib.pyplot as plt\n",
    "%matplotlib inline\n",
    "\n",
    "# Enable logging for gensim \n",
    "import logging\n",
    "logging.basicConfig(format='%(asctime)s : %(levelname)s : %(message)s', level=logging.ERROR)\n",
    "\n",
    "import warnings\n",
    "warnings.filterwarnings(\"ignore\",category=DeprecationWarning)"
   ]
  },
  {
   "cell_type": "code",
   "execution_count": 2,
   "metadata": {},
   "outputs": [],
   "source": [
    "# NLTK Stop words\n",
    "from nltk.corpus import stopwords\n",
    "stop_words = stopwords.words('english')\n",
    "stop_words.extend(['from', 'subject', 're', 'edu', 'use'])"
   ]
  },
  {
   "cell_type": "code",
   "execution_count": 3,
   "metadata": {},
   "outputs": [
    {
     "data": {
      "text/html": [
       "<div>\n",
       "<style scoped>\n",
       "    .dataframe tbody tr th:only-of-type {\n",
       "        vertical-align: middle;\n",
       "    }\n",
       "\n",
       "    .dataframe tbody tr th {\n",
       "        vertical-align: top;\n",
       "    }\n",
       "\n",
       "    .dataframe thead th {\n",
       "        text-align: right;\n",
       "    }\n",
       "</style>\n",
       "<table border=\"1\" class=\"dataframe\">\n",
       "  <thead>\n",
       "    <tr style=\"text-align: right;\">\n",
       "      <th></th>\n",
       "      <th>Column1</th>\n",
       "      <th>Season</th>\n",
       "      <th>Episode</th>\n",
       "      <th>Sentence</th>\n",
       "      <th>Name</th>\n",
       "      <th>N_serie</th>\n",
       "      <th>N_Season</th>\n",
       "      <th>Emision Date</th>\n",
       "    </tr>\n",
       "  </thead>\n",
       "  <tbody>\n",
       "    <tr>\n",
       "      <th>0</th>\n",
       "      <td>1</td>\n",
       "      <td>Season 1</td>\n",
       "      <td>winter is coming</td>\n",
       "      <td>What d’you expect? They’re savages One lot ste...</td>\n",
       "      <td>waymar royce</td>\n",
       "      <td>1</td>\n",
       "      <td>1</td>\n",
       "      <td>17/04/2011</td>\n",
       "    </tr>\n",
       "    <tr>\n",
       "      <th>1</th>\n",
       "      <td>2</td>\n",
       "      <td>Season 1</td>\n",
       "      <td>winter is coming</td>\n",
       "      <td>I’ve never seen wildlings do a thing like this...</td>\n",
       "      <td>will</td>\n",
       "      <td>1</td>\n",
       "      <td>1</td>\n",
       "      <td>17/04/2011</td>\n",
       "    </tr>\n",
       "    <tr>\n",
       "      <th>2</th>\n",
       "      <td>3</td>\n",
       "      <td>Season 1</td>\n",
       "      <td>winter is coming</td>\n",
       "      <td>How close did you get?</td>\n",
       "      <td>waymar royce</td>\n",
       "      <td>1</td>\n",
       "      <td>1</td>\n",
       "      <td>17/04/2011</td>\n",
       "    </tr>\n",
       "    <tr>\n",
       "      <th>3</th>\n",
       "      <td>4</td>\n",
       "      <td>Season 1</td>\n",
       "      <td>winter is coming</td>\n",
       "      <td>Close as any man would</td>\n",
       "      <td>will</td>\n",
       "      <td>1</td>\n",
       "      <td>1</td>\n",
       "      <td>17/04/2011</td>\n",
       "    </tr>\n",
       "    <tr>\n",
       "      <th>4</th>\n",
       "      <td>5</td>\n",
       "      <td>Season 1</td>\n",
       "      <td>winter is coming</td>\n",
       "      <td>We should head back to the wall</td>\n",
       "      <td>gared</td>\n",
       "      <td>1</td>\n",
       "      <td>1</td>\n",
       "      <td>17/04/2011</td>\n",
       "    </tr>\n",
       "  </tbody>\n",
       "</table>\n",
       "</div>"
      ],
      "text/plain": [
       "   Column1    Season           Episode  \\\n",
       "0        1  Season 1  winter is coming   \n",
       "1        2  Season 1  winter is coming   \n",
       "2        3  Season 1  winter is coming   \n",
       "3        4  Season 1  winter is coming   \n",
       "4        5  Season 1  winter is coming   \n",
       "\n",
       "                                            Sentence          Name  N_serie  \\\n",
       "0  What d’you expect? They’re savages One lot ste...  waymar royce        1   \n",
       "1  I’ve never seen wildlings do a thing like this...          will        1   \n",
       "2                             How close did you get?  waymar royce        1   \n",
       "3                             Close as any man would          will        1   \n",
       "4                    We should head back to the wall         gared        1   \n",
       "\n",
       "   N_Season Emision Date  \n",
       "0         1   17/04/2011  \n",
       "1         1   17/04/2011  \n",
       "2         1   17/04/2011  \n",
       "3         1   17/04/2011  \n",
       "4         1   17/04/2011  "
      ]
     },
     "execution_count": 3,
     "metadata": {},
     "output_type": "execute_result"
    }
   ],
   "source": [
    "df=pd.read_csv('got_scripts_breakdown.csv', sep=';')\n",
    "df.head()"
   ]
  },
  {
   "cell_type": "code",
   "execution_count": 4,
   "metadata": {},
   "outputs": [],
   "source": [
    "# Convert to list\n",
    "data = df.Sentence.values.tolist()"
   ]
  },
  {
   "cell_type": "code",
   "execution_count": 5,
   "metadata": {},
   "outputs": [
    {
     "name": "stdout",
     "output_type": "stream",
     "text": [
      "[['what', 'you', 'expect', 'they', 're', 'savages', 'one', 'lot', 'steals', 'goat', 'from', 'another', 'lot', 'and', 'before', 'you', 'know', 'it', 'they', 're', 'ripping', 'each', 'other', 'to', 'pieces']]\n"
     ]
    }
   ],
   "source": [
    "def sent_to_words(sentences):\n",
    "    for sentence in sentences:\n",
    "        yield(gensim.utils.simple_preprocess(str(sentence), deacc=True))  # deacc=True removes punctuations\n",
    "\n",
    "data_words = list(sent_to_words(data))\n",
    "\n",
    "print(data_words[:1])"
   ]
  },
  {
   "cell_type": "code",
   "execution_count": 6,
   "metadata": {},
   "outputs": [
    {
     "name": "stdout",
     "output_type": "stream",
     "text": [
      "['what', 'you', 'expect', 'they', 're', 'savages', 'one', 'lot', 'steals', 'goat', 'from', 'another', 'lot', 'and', 'before', 'you', 'know', 'it', 'they', 're', 'ripping', 'each_other', 'to', 'pieces']\n"
     ]
    }
   ],
   "source": [
    "# Build the bigram and trigram models\n",
    "bigram = gensim.models.Phrases(data_words, min_count=5, threshold=100) # higher threshold fewer phrases.\n",
    "trigram = gensim.models.Phrases(bigram[data_words], threshold=100)  \n",
    "\n",
    "# Faster way to get a sentence clubbed as a trigram/bigram\n",
    "bigram_mod = gensim.models.phrases.Phraser(bigram)\n",
    "trigram_mod = gensim.models.phrases.Phraser(trigram)\n",
    "\n",
    "# See trigram example\n",
    "print(trigram_mod[bigram_mod[data_words[0]]])"
   ]
  },
  {
   "cell_type": "code",
   "execution_count": 7,
   "metadata": {},
   "outputs": [],
   "source": [
    "# Define functions for stopwords, bigrams, trigrams and lemmatization\n",
    "def remove_stopwords(texts):\n",
    "    return [[word for word in simple_preprocess(str(doc)) if word not in stop_words] for doc in texts]\n",
    "\n",
    "def make_bigrams(texts):\n",
    "    return [bigram_mod[doc] for doc in texts]\n",
    "\n",
    "def make_trigrams(texts):\n",
    "    return [trigram_mod[bigram_mod[doc]] for doc in texts]\n",
    "\n",
    "def lemmatization(texts, allowed_postags=['NOUN', 'ADJ', 'VERB', 'ADV']):\n",
    "    \"\"\"https://spacy.io/api/annotation\"\"\"\n",
    "    texts_out = []\n",
    "    for sent in texts:\n",
    "        doc = nlp(\" \".join(sent)) \n",
    "        texts_out.append([token.lemma_ for token in doc if token.pos_ in allowed_postags])\n",
    "    return texts_out"
   ]
  },
  {
   "cell_type": "code",
   "execution_count": 8,
   "metadata": {},
   "outputs": [
    {
     "name": "stdout",
     "output_type": "stream",
     "text": [
      "[['expect', 'savage', 'lot', 'steal', 'goat', 'lot', 'know', 'rip', 'piece']]\n"
     ]
    }
   ],
   "source": [
    "# Remove Stop Words\n",
    "data_words_nostops = remove_stopwords(data_words)\n",
    "\n",
    "# Form Bigrams\n",
    "data_words_bigrams = make_bigrams(data_words_nostops)\n",
    "\n",
    "# Initialize spacy 'en' model, keeping only tagger component (for efficiency)\n",
    "nlp = spacy.load('en', disable=['parser', 'ner'])\n",
    "\n",
    "# Do lemmatization keeping only noun, adj, vb, adv\n",
    "data_lemmatized = lemmatization(data_words_bigrams, allowed_postags=['NOUN', 'ADJ', 'VERB', 'ADV'])\n",
    "\n",
    "print(data_lemmatized[:1])"
   ]
  },
  {
   "cell_type": "code",
   "execution_count": 9,
   "metadata": {},
   "outputs": [
    {
     "name": "stdout",
     "output_type": "stream",
     "text": [
      "[[(0, 1), (1, 1), (2, 1), (3, 2), (4, 1), (5, 1), (6, 1), (7, 1)]]\n"
     ]
    }
   ],
   "source": [
    "# Create Dictionary\n",
    "id2word = corpora.Dictionary(data_lemmatized)\n",
    "\n",
    "# Create Corpus\n",
    "texts = data_lemmatized\n",
    "\n",
    "# Term Document Frequency\n",
    "corpus = [id2word.doc2bow(text) for text in texts]\n",
    "\n",
    "# View\n",
    "print(corpus[:1])"
   ]
  },
  {
   "cell_type": "code",
   "execution_count": 10,
   "metadata": {},
   "outputs": [
    {
     "data": {
      "text/plain": [
       "[[('expect', 1),\n",
       "  ('goat', 1),\n",
       "  ('know', 1),\n",
       "  ('lot', 2),\n",
       "  ('piece', 1),\n",
       "  ('rip', 1),\n",
       "  ('savage', 1),\n",
       "  ('steal', 1)]]"
      ]
     },
     "execution_count": 10,
     "metadata": {},
     "output_type": "execute_result"
    }
   ],
   "source": [
    "# Human readable format of corpus (term-frequency)\n",
    "[[(id2word[id], freq) for id, freq in cp] for cp in corpus[:1]]"
   ]
  },
  {
   "cell_type": "code",
   "execution_count": 33,
   "metadata": {},
   "outputs": [],
   "source": [
    "# Build LDA model\n",
    "lda_model = gensim.models.ldamodel.LdaModel(corpus=corpus,\n",
    "                                           id2word=id2word,\n",
    "                                           num_topics=26, \n",
    "                                           random_state=100,\n",
    "                                           update_every=1,\n",
    "                                           chunksize=100,\n",
    "                                           passes=10,\n",
    "                                           alpha='auto',\n",
    "                                           eta=0.1,\n",
    "                                           per_word_topics=True)"
   ]
  },
  {
   "cell_type": "code",
   "execution_count": 18,
   "metadata": {},
   "outputs": [
    {
     "name": "stdout",
     "output_type": "stream",
     "text": [
      "[(11,\n",
      "  '0.103*\"love\" + 0.095*\"enemy\" + 0.064*\"burn\" + 0.046*\"crow\" + 0.037*\"defeat\" '\n",
      "  '+ 0.037*\"snow\" + 0.035*\"flame\" + 0.033*\"defend\" + 0.028*\"sorry\" + '\n",
      "  '0.024*\"joke\"'),\n",
      " (20,\n",
      "  '0.184*\"back\" + 0.089*\"wall\" + 0.051*\"gendry\" + 0.046*\"send\" + 0.037*\"put\" + '\n",
      "  '0.034*\"heart\" + 0.032*\"bastard\" + 0.028*\"wildling\" + 0.025*\"order\" + '\n",
      "  '0.024*\"weapon\"'),\n",
      " (2,\n",
      "  '0.070*\"face\" + 0.069*\"child\" + 0.068*\"happen\" + 0.058*\"start\" + '\n",
      "  '0.057*\"boat\" + 0.048*\"girl\" + 0.046*\"pull\" + 0.042*\"enough\" + 0.040*\"true\" '\n",
      "  '+ 0.028*\"soon\"'),\n",
      " (21,\n",
      "  '0.141*\"good\" + 0.136*\"queen\" + 0.077*\"winterfell\" + 0.066*\"hear\" + '\n",
      "  '0.060*\"bring\" + 0.037*\"bronn\" + 0.037*\"ride\" + 0.027*\"beach\" + '\n",
      "  '0.027*\"raven\" + 0.015*\"arrive\"'),\n",
      " (12,\n",
      "  '0.207*\"have\" + 0.102*\"stand\" + 0.098*\"leave\" + 0.064*\"help\" + 0.053*\"mean\" '\n",
      "  '+ 0.032*\"destroy\" + 0.028*\"bear\" + 0.024*\"continue\" + 0.021*\"alone\" + '\n",
      "  '0.019*\"iron_island\"'),\n",
      " (19,\n",
      "  '0.155*\"take\" + 0.121*\"dead\" + 0.046*\"betray\" + 0.041*\"home\" + 0.034*\"tree\" '\n",
      "  '+ 0.030*\"kings_lande\" + 0.027*\"already\" + 0.027*\"yet\" + 0.026*\"reach\" + '\n",
      "  '0.023*\"lead\"'),\n",
      " (13,\n",
      "  '0.137*\"king\" + 0.100*\"hand\" + 0.094*\"give\" + 0.058*\"line\" + 0.034*\"maybe\" + '\n",
      "  '0.032*\"listen\" + 0.022*\"next\" + 0.019*\"set\" + 0.019*\"throat\" + '\n",
      "  '0.016*\"none\"'),\n",
      " (0,\n",
      "  '0.097*\"jon\" + 0.067*\"cersei\" + 0.065*\"lannister\" + 0.065*\"daenery\" + '\n",
      "  '0.058*\"war\" + 0.050*\"protect\" + 0.045*\"nothing\" + 0.033*\"woman\" + '\n",
      "  '0.033*\"davos\" + 0.021*\"rule\"'),\n",
      " (4,\n",
      "  '0.112*\"kill\" + 0.087*\"arya\" + 0.059*\"sword\" + 0.053*\"guard\" + 0.052*\"sansa\" '\n",
      "  '+ 0.044*\"sister\" + 0.029*\"understand\" + 0.028*\"boy\" + 0.025*\"call\" + '\n",
      "  '0.022*\"targaryen\"'),\n",
      " (23,\n",
      "  '0.153*\"say\" + 0.136*\"north\" + 0.071*\"begin\" + 0.049*\"may\" + 0.038*\"thank\" + '\n",
      "  '0.028*\"open\" + 0.026*\"save\" + 0.021*\"far\" + 0.021*\"hope\" + '\n",
      "  '0.021*\"seven_kingdom\"'),\n",
      " (8,\n",
      "  '0.198*\"see\" + 0.066*\"long\" + 0.054*\"ill\" + 0.051*\"keep\" + 0.047*\"world\" + '\n",
      "  '0.042*\"together\" + 0.035*\"day\" + 0.033*\"fire\" + 0.030*\"gold\" + '\n",
      "  '0.028*\"stay\"'),\n",
      " (16,\n",
      "  '0.215*\"s\" + 0.112*\"walk\" + 0.036*\"last\" + 0.035*\"speak\" + 0.030*\"there\" + '\n",
      "  '0.027*\"room\" + 0.026*\"really\" + 0.023*\"everyone\" + 0.023*\"lose\" + '\n",
      "  '0.023*\"door\"'),\n",
      " (5,\n",
      "  '0.241*\"know\" + 0.123*\"father\" + 0.093*\"fight\" + 0.055*\"grace\" + '\n",
      "  '0.048*\"dothraki\" + 0.033*\"trust\" + 0.029*\"ser\" + 0.023*\"jorah\" + '\n",
      "  '0.020*\"eye\" + 0.018*\"approach\"'),\n",
      " (6,\n",
      "  '0.189*\"come\" + 0.112*\"tell\" + 0.066*\"time\" + 0.048*\"many\" + 0.045*\"stop\" + '\n",
      "  '0.030*\"bran\" + 0.029*\"step\" + 0.023*\"fall\" + 0.023*\"knee\" + '\n",
      "  '0.019*\"someone\"'),\n",
      " (15,\n",
      "  '0.212*\"man\" + 0.065*\"army\" + 0.061*\"could\" + 0.044*\"great\" + 0.036*\"even\" + '\n",
      "  '0.032*\"end\" + 0.026*\"strange\" + 0.019*\"ship\" + 0.017*\"seem\" + '\n",
      "  '0.016*\"charge\"'),\n",
      " (22,\n",
      "  '0.353*\"be\" + 0.159*\"go\" + 0.107*\"would\" + 0.038*\"mother\" + 0.018*\"forgive\" '\n",
      "  '+ 0.017*\"sam\" + 0.014*\"pause\" + 0.013*\"appear\" + 0.011*\"entire\" + '\n",
      "  '0.011*\"important\"'),\n",
      " (10,\n",
      "  '0.101*\"make\" + 0.046*\"house\" + 0.044*\"must\" + 0.041*\"first\" + 0.036*\"name\" '\n",
      "  '+ 0.036*\"talk\" + 0.032*\"something\" + 0.029*\"city\" + 0.029*\"sure\" + '\n",
      "  '0.029*\"serve\"'),\n",
      " (17,\n",
      "  '0.120*\"get\" + 0.118*\"think\" + 0.091*\"turn\" + 0.080*\"need\" + 0.066*\"right\" + '\n",
      "  '0.060*\"believe\" + 0.040*\"tyrion\" + 0.033*\"ask\" + 0.020*\"everything\" + '\n",
      "  '0.017*\"horse\"'),\n",
      " (1,\n",
      "  '0.082*\"thing\" + 0.079*\"way\" + 0.058*\"ever\" + 0.054*\"die\" + 0.042*\"murder\" + '\n",
      "  '0.041*\"head\" + 0.038*\"fuck\" + 0.038*\"sit\" + 0.038*\"try\" + 0.037*\"remember\"'),\n",
      " (7,\n",
      "  '0.315*\"not\" + 0.194*\"do\" + 0.051*\"well\" + 0.031*\"always\" + 0.019*\"meet\" + '\n",
      "  '0.018*\"work\" + 0.017*\"nice\" + 0.014*\"anyone\" + 0.011*\"ready\" + '\n",
      "  '0.011*\"swear\"')]\n"
     ]
    }
   ],
   "source": [
    "# Print the Keyword in the 24 topics\n",
    "pprint(lda_model.print_topics())\n",
    "doc_lda = lda_model[corpus]"
   ]
  },
  {
   "cell_type": "code",
   "execution_count": 19,
   "metadata": {},
   "outputs": [
    {
     "name": "stdout",
     "output_type": "stream",
     "text": [
      "\n",
      "Perplexity:  -8.116582766201468\n",
      "\n",
      "Coherence Score:  0.38110419597348816\n"
     ]
    }
   ],
   "source": [
    "# Compute Perplexity\n",
    "print('\\nPerplexity: ', lda_model.log_perplexity(corpus))  # a measure of how good the model is. lower the better.\n",
    "\n",
    "# Compute Coherence Score\n",
    "coherence_model_lda = CoherenceModel(model=lda_model, texts=data_lemmatized, dictionary=id2word, coherence='c_v')\n",
    "coherence_lda = coherence_model_lda.get_coherence()\n",
    "print('\\nCoherence Score: ', coherence_lda)"
   ]
  },
  {
   "cell_type": "code",
   "execution_count": null,
   "metadata": {},
   "outputs": [],
   "source": [
    "# Visualize the topics\n",
    "pyLDAvis.enable_notebook()\n",
    "vis = pyLDAvis.gensim.prepare(lda_model, corpus, id2word)\n",
    "vis"
   ]
  },
  {
   "cell_type": "code",
   "execution_count": null,
   "metadata": {},
   "outputs": [],
   "source": [
    "#### Download File: http://mallet.cs.umass.edu/dist/mallet-2.0.8.zip\n",
    "# mallet_path = '/Users/joycechen/Desktop/ML/SM_Project/mallet-2.0.8/bin/mallet'  # update this path\n",
    "# ldamallet = gensim.models.wrappers.LdaMallet(mallet_path, corpus=corpus, num_topics=20, id2word=id2word)"
   ]
  },
  {
   "cell_type": "code",
   "execution_count": 21,
   "metadata": {},
   "outputs": [],
   "source": [
    "def compute_coherence_values(dictionary, corpus, texts, limit, start=2, step=3):\n",
    "    \"\"\"\n",
    "    Compute c_v coherence for various number of topics\n",
    "\n",
    "    Parameters:\n",
    "    ----------\n",
    "    dictionary : Gensim dictionary\n",
    "    corpus : Gensim corpus\n",
    "    texts : List of input texts\n",
    "    limit : Max num of topics\n",
    "\n",
    "    Returns:\n",
    "    -------\n",
    "    model_list : List of LDA topic models\n",
    "    coherence_values : Coherence values corresponding to the LDA model with respective number of topics\n",
    "    \"\"\"\n",
    "    coherence_values = []\n",
    "    model_list = []\n",
    "    for num_topics in range(start, limit, step):\n",
    "#         model = gensim.models.wrappers.LdaMallet(mallet_path, corpus=corpus, num_topics=num_topics, id2word=id2word)\n",
    "        model = gensim.models.ldamodel.LdaModel(corpus=corpus,\n",
    "                                           id2word=id2word,\n",
    "                                           num_topics=num_topics, \n",
    "                                           random_state=100,\n",
    "                                           update_every=1,\n",
    "                                           chunksize=100,\n",
    "                                           passes=10,\n",
    "                                           alpha='auto',\n",
    "                                           eta=0.1,\n",
    "                                           per_word_topics=True)\n",
    "        model_list.append(model)\n",
    "        coherencemodel = CoherenceModel(model=model, texts=texts, dictionary=dictionary, coherence='c_v')\n",
    "        coherence_values.append(coherencemodel.get_coherence())\n",
    "\n",
    "    return model_list, coherence_values"
   ]
  },
  {
   "cell_type": "code",
   "execution_count": 22,
   "metadata": {},
   "outputs": [],
   "source": [
    "\n",
    "model_list, coherence_values = compute_coherence_values(dictionary=id2word, corpus=corpus, texts=data_lemmatized, start=20, limit=30, step=2)\n"
   ]
  },
  {
   "cell_type": "code",
   "execution_count": 23,
   "metadata": {},
   "outputs": [
    {
     "data": {
      "image/png": "[encoded data removed]",
      "text/plain": [
       "<Figure size 432x288 with 1 Axes>"
      ]
     },
     "metadata": {
      "needs_background": "light"
     },
     "output_type": "display_data"
    }
   ],
   "source": [
    "# Show graph\n",
    "limit=30; start=20; step=2;\n",
    "x = range(start, limit, step)\n",
    "plt.plot(x, coherence_values)\n",
    "plt.xlabel(\"Num Topics\")\n",
    "plt.ylabel(\"Coherence score\")\n",
    "plt.legend((\"coherence_values\"), loc='best')\n",
    "plt.show()"
   ]
  },
  {
   "cell_type": "code",
   "execution_count": 24,
   "metadata": {},
   "outputs": [
    {
     "name": "stdout",
     "output_type": "stream",
     "text": [
      "Num Topics = 20  has Coherence Value of 0.3456\n",
      "Num Topics = 22  has Coherence Value of 0.3645\n",
      "Num Topics = 24  has Coherence Value of 0.3811\n",
      "Num Topics = 26  has Coherence Value of 0.3833\n",
      "Num Topics = 28  has Coherence Value of 0.399\n"
     ]
    }
   ],
   "source": [
    "# Print the coherence scores\n",
    "for m, cv in zip(x, coherence_values):\n",
    "    print(\"Num Topics =\", m, \" has Coherence Value of\", round(cv, 4))"
   ]
  },
  {
   "cell_type": "code",
   "execution_count": 26,
   "metadata": {},
   "outputs": [
    {
     "name": "stdout",
     "output_type": "stream",
     "text": [
      "[(0,\n",
      "  '0.095*\"way\" + 0.076*\"stand\" + 0.051*\"murder\" + 0.046*\"fuck\" + 0.045*\"try\" + '\n",
      "  '0.043*\"child\" + 0.039*\"mean\" + 0.031*\"city\" + 0.029*\"pull\" + '\n",
      "  '0.023*\"choose\"'),\n",
      " (1,\n",
      "  '0.082*\"never\" + 0.058*\"hand\" + 0.057*\"ever\" + 0.051*\"cersei\" + 0.045*\"war\" '\n",
      "  '+ 0.041*\"head\" + 0.039*\"world\" + 0.031*\"talk\" + 0.027*\"life\" + '\n",
      "  '0.023*\"stay\"'),\n",
      " (2,\n",
      "  '0.119*\"want\" + 0.092*\"father\" + 0.070*\"fight\" + 0.053*\"dragon\" + '\n",
      "  '0.052*\"army\" + 0.034*\"let\" + 0.023*\"home\" + 0.022*\"gold\" + 0.021*\"nice\" + '\n",
      "  '0.020*\"hold\"'),\n",
      " (3,\n",
      "  '0.179*\"s\" + 0.137*\"look\" + 0.106*\"think\" + 0.059*\"right\" + 0.050*\"die\" + '\n",
      "  '0.033*\"face\" + 0.032*\"happen\" + 0.031*\"line\" + 0.030*\"ask\" + 0.023*\"bran\"'),\n",
      " (4,\n",
      "  '0.191*\"man\" + 0.080*\"king\" + 0.069*\"arya\" + 0.042*\"sansa\" + 0.040*\"great\" + '\n",
      "  '0.040*\"help\" + 0.035*\"sister\" + 0.028*\"betray\" + 0.018*\"open\" + '\n",
      "  '0.018*\"castle\"'),\n",
      " (5,\n",
      "  '0.135*\"take\" + 0.107*\"jon\" + 0.059*\"love\" + 0.033*\"anything\" + '\n",
      "  '0.031*\"enough\" + 0.030*\"tree\" + 0.028*\"else\" + 0.026*\"kings_lande\" + '\n",
      "  '0.024*\"raven\" + 0.020*\"soon\"'),\n",
      " (6,\n",
      "  '0.126*\"tell\" + 0.074*\"time\" + 0.072*\"give\" + 0.054*\"many\" + 0.050*\"stop\" + '\n",
      "  '0.043*\"night\" + 0.033*\"step\" + 0.026*\"fall\" + 0.022*\"someone\" + '\n",
      "  '0.019*\"reason\"'),\n",
      " (7,\n",
      "  '0.112*\"back\" + 0.091*\"thing\" + 0.056*\"run\" + 0.047*\"away\" + 0.039*\"first\" + '\n",
      "  '0.032*\"end\" + 0.028*\"send\" + 0.025*\"strange\" + 0.023*\"true\" + '\n",
      "  '0.021*\"heart\"'),\n",
      " (8,\n",
      "  '0.142*\"go\" + 0.124*\"get\" + 0.093*\"kill\" + 0.093*\"make\" + 0.064*\"leave\" + '\n",
      "  '0.024*\"understand\" + 0.020*\"knee\" + 0.019*\"bear\" + 0.018*\"fly\" + '\n",
      "  '0.016*\"hard\"'),\n",
      " (9,\n",
      "  '0.174*\"know\" + 0.142*\"see\" + 0.053*\"people\" + 0.042*\"wall\" + 0.041*\"sword\" '\n",
      "  '+ 0.039*\"ill\" + 0.038*\"family\" + 0.035*\"dothraki\" + 0.033*\"drogon\" + '\n",
      "  '0.024*\"trust\"'),\n",
      " (10,\n",
      "  '0.206*\"not\" + 0.127*\"do\" + 0.042*\"would\" + 0.042*\"turn\" + 0.035*\"dead\" + '\n",
      "  '0.033*\"well\" + 0.022*\"grace\" + 0.021*\"always\" + 0.019*\"house\" + '\n",
      "  '0.018*\"must\"'),\n",
      " (11,\n",
      "  '0.067*\"long\" + 0.062*\"lannister\" + 0.062*\"use\" + 0.060*\"lady\" + 0.047*\"sit\" '\n",
      "  '+ 0.043*\"nothing\" + 0.040*\"mother\" + 0.036*\"day\" + 0.035*\"place\" + '\n",
      "  '0.034*\"fire\"'),\n",
      " (12,\n",
      "  '0.183*\"come\" + 0.116*\"walk\" + 0.062*\"still\" + 0.039*\"together\" + '\n",
      "  '0.037*\"last\" + 0.036*\"speak\" + 0.028*\"miss\" + 0.028*\"room\" + 0.024*\"moment\" '\n",
      "  '+ 0.019*\"save\"'),\n",
      " (13,\n",
      "  '0.252*\"be\" + 0.110*\"have\" + 0.050*\"believe\" + 0.047*\"could\" + 0.028*\"even\" '\n",
      "  '+ 0.025*\"start\" + 0.023*\"there\" + 0.021*\"serve\" + 0.020*\"really\" + '\n",
      "  '0.018*\"everyone\"'),\n",
      " (14,\n",
      "  '0.094*\"boat\" + 0.059*\"crow\" + 0.054*\"already\" + 0.039*\"expect\" + '\n",
      "  '0.039*\"lot\" + 0.038*\"young\" + 0.036*\"sorry\" + 0.024*\"quickly\" + '\n",
      "  '0.024*\"clever\" + 0.023*\"steal\"'),\n",
      " (15,\n",
      "  '0.099*\"daenery\" + 0.088*\"find\" + 0.074*\"bring\" + 0.041*\"lose\" + '\n",
      "  '0.039*\"perhaps\" + 0.031*\"seem\" + 0.029*\"snow\" + 0.027*\"person\" + '\n",
      "  '0.026*\"pledge\" + 0.021*\"battlefield\"'),\n",
      " (16,\n",
      "  '0.110*\"jaime\" + 0.081*\"brother\" + 0.080*\"remember\" + 0.047*\"much\" + '\n",
      "  '0.045*\"door\" + 0.041*\"soldier\" + 0.037*\"beach\" + 0.033*\"show\" + '\n",
      "  '0.021*\"iron_bank\" + 0.021*\"group\"'),\n",
      " (17,\n",
      "  '0.120*\"lord\" + 0.098*\"need\" + 0.054*\"stark\" + 0.053*\"watch\" + '\n",
      "  '0.049*\"tyrion\" + 0.034*\"winter\" + 0.033*\"baelish\" + 0.029*\"ride\" + '\n",
      "  '0.028*\"boy\" + 0.025*\"put\"'),\n",
      " (18,\n",
      "  '0.103*\"north\" + 0.100*\"good\" + 0.097*\"queen\" + 0.055*\"winterfell\" + '\n",
      "  '0.048*\"guard\" + 0.048*\"keep\" + 0.047*\"hear\" + 0.044*\"protect\" + '\n",
      "  '0.026*\"bronn\" + 0.017*\"continue\"'),\n",
      " (19,\n",
      "  '0.141*\"say\" + 0.066*\"begin\" + 0.053*\"enemy\" + 0.048*\"live\" + 0.045*\"may\" + '\n",
      "  '0.036*\"sure\" + 0.035*\"thank\" + 0.034*\"ser\" + 0.032*\"maester\" + '\n",
      "  '0.027*\"jorah\"')]\n"
     ]
    }
   ],
   "source": [
    "# Select the model and print the topics\n",
    "optimal_model = model_list[0] \n",
    "model_topics = optimal_model.show_topics(formatted=False)\n",
    "pprint(optimal_model.print_topics(num_words=10))"
   ]
  },
  {
   "cell_type": "code",
   "execution_count": null,
   "metadata": {},
   "outputs": [],
   "source": []
  }
 ],
 "metadata": {
  "kernelspec": {
   "display_name": "Python 3",
   "language": "python",
   "name": "python3"
  },
  "language_info": {
   "codemirror_mode": {
    "name": "ipython",
    "version": 3
   },
   "file_extension": ".py",
   "mimetype": "text/x-python",
   "name": "python",
   "nbconvert_exporter": "python",
   "pygments_lexer": "ipython3",
   "version": "3.7.3"
  }
 },
 "nbformat": 4,
 "nbformat_minor": 2
}
