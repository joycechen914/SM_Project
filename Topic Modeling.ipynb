{
 "cells": [
  {
   "cell_type": "code",
   "execution_count": 16,
   "metadata": {},
   "outputs": [],
   "source": [
    "import re\n",
    "import numpy as np\n",
    "import pandas as pd\n",
    "from pprint import pprint\n",
    "\n",
    "# Gensim\n",
    "import gensim\n",
    "import gensim.corpora as corpora\n",
    "from gensim.utils import simple_preprocess\n",
    "from gensim.models import CoherenceModel\n",
    "from gensim.models.wrappers import LdaMallet\n",
    "\n",
    "# spacy for lemmatization\n",
    "import spacy\n",
    "\n",
    "# Plotting tools\n",
    "import pyLDAvis\n",
    "import pyLDAvis.gensim  \n",
    "import matplotlib.pyplot as plt\n",
    "%matplotlib inline\n",
    "\n",
    "# Enable logging for gensim \n",
    "import logging\n",
    "logging.basicConfig(format='%(asctime)s : %(levelname)s : %(message)s', level=logging.ERROR)\n",
    "\n",
    "import warnings\n",
    "warnings.filterwarnings(\"ignore\",category=DeprecationWarning)"
   ]
  },
  {
   "cell_type": "code",
   "execution_count": 17,
   "metadata": {},
   "outputs": [],
   "source": [
    "# NLTK Stop words\n",
    "from nltk.corpus import stopwords\n",
    "stop_words = stopwords.words('english')\n",
    "stop_words.extend(['from', 'subject', 're', 'edu', 'use'])"
   ]
  },
  {
   "cell_type": "code",
   "execution_count": 18,
   "metadata": {},
   "outputs": [
    {
     "data": {
      "text/html": [
       "<div>\n",
       "<style scoped>\n",
       "    .dataframe tbody tr th:only-of-type {\n",
       "        vertical-align: middle;\n",
       "    }\n",
       "\n",
       "    .dataframe tbody tr th {\n",
       "        vertical-align: top;\n",
       "    }\n",
       "\n",
       "    .dataframe thead th {\n",
       "        text-align: right;\n",
       "    }\n",
       "</style>\n",
       "<table border=\"1\" class=\"dataframe\">\n",
       "  <thead>\n",
       "    <tr style=\"text-align: right;\">\n",
       "      <th></th>\n",
       "      <th>Column1</th>\n",
       "      <th>Season</th>\n",
       "      <th>Episode</th>\n",
       "      <th>Sentence</th>\n",
       "      <th>Name</th>\n",
       "      <th>N_serie</th>\n",
       "      <th>N_Season</th>\n",
       "      <th>Emision Date</th>\n",
       "    </tr>\n",
       "  </thead>\n",
       "  <tbody>\n",
       "    <tr>\n",
       "      <th>0</th>\n",
       "      <td>1</td>\n",
       "      <td>Season 1</td>\n",
       "      <td>winter is coming</td>\n",
       "      <td>What d’you expect? They’re savages One lot ste...</td>\n",
       "      <td>waymar royce</td>\n",
       "      <td>1</td>\n",
       "      <td>1</td>\n",
       "      <td>17/04/2011</td>\n",
       "    </tr>\n",
       "    <tr>\n",
       "      <th>1</th>\n",
       "      <td>2</td>\n",
       "      <td>Season 1</td>\n",
       "      <td>winter is coming</td>\n",
       "      <td>I’ve never seen wildlings do a thing like this...</td>\n",
       "      <td>will</td>\n",
       "      <td>1</td>\n",
       "      <td>1</td>\n",
       "      <td>17/04/2011</td>\n",
       "    </tr>\n",
       "    <tr>\n",
       "      <th>2</th>\n",
       "      <td>3</td>\n",
       "      <td>Season 1</td>\n",
       "      <td>winter is coming</td>\n",
       "      <td>How close did you get?</td>\n",
       "      <td>waymar royce</td>\n",
       "      <td>1</td>\n",
       "      <td>1</td>\n",
       "      <td>17/04/2011</td>\n",
       "    </tr>\n",
       "    <tr>\n",
       "      <th>3</th>\n",
       "      <td>4</td>\n",
       "      <td>Season 1</td>\n",
       "      <td>winter is coming</td>\n",
       "      <td>Close as any man would</td>\n",
       "      <td>will</td>\n",
       "      <td>1</td>\n",
       "      <td>1</td>\n",
       "      <td>17/04/2011</td>\n",
       "    </tr>\n",
       "    <tr>\n",
       "      <th>4</th>\n",
       "      <td>5</td>\n",
       "      <td>Season 1</td>\n",
       "      <td>winter is coming</td>\n",
       "      <td>We should head back to the wall</td>\n",
       "      <td>gared</td>\n",
       "      <td>1</td>\n",
       "      <td>1</td>\n",
       "      <td>17/04/2011</td>\n",
       "    </tr>\n",
       "  </tbody>\n",
       "</table>\n",
       "</div>"
      ],
      "text/plain": [
       "   Column1    Season           Episode  \\\n",
       "0        1  Season 1  winter is coming   \n",
       "1        2  Season 1  winter is coming   \n",
       "2        3  Season 1  winter is coming   \n",
       "3        4  Season 1  winter is coming   \n",
       "4        5  Season 1  winter is coming   \n",
       "\n",
       "                                            Sentence          Name  N_serie  \\\n",
       "0  What d’you expect? They’re savages One lot ste...  waymar royce        1   \n",
       "1  I’ve never seen wildlings do a thing like this...          will        1   \n",
       "2                             How close did you get?  waymar royce        1   \n",
       "3                             Close as any man would          will        1   \n",
       "4                    We should head back to the wall         gared        1   \n",
       "\n",
       "   N_Season Emision Date  \n",
       "0         1   17/04/2011  \n",
       "1         1   17/04/2011  \n",
       "2         1   17/04/2011  \n",
       "3         1   17/04/2011  \n",
       "4         1   17/04/2011  "
      ]
     },
     "execution_count": 18,
     "metadata": {},
     "output_type": "execute_result"
    }
   ],
   "source": [
    "df=pd.read_csv('got_scripts_breakdown.csv', sep=';')\n",
    "df.head()"
   ]
  },
  {
   "cell_type": "code",
   "execution_count": 19,
   "metadata": {},
   "outputs": [],
   "source": [
    "# Convert to list\n",
    "data = df.Sentence.values.tolist()"
   ]
  },
  {
   "cell_type": "code",
   "execution_count": 20,
   "metadata": {},
   "outputs": [
    {
     "name": "stdout",
     "output_type": "stream",
     "text": [
      "[['what', 'you', 'expect', 'they', 're', 'savages', 'one', 'lot', 'steals', 'goat', 'from', 'another', 'lot', 'and', 'before', 'you', 'know', 'it', 'they', 're', 'ripping', 'each', 'other', 'to', 'pieces']]\n"
     ]
    }
   ],
   "source": [
    "def sent_to_words(sentences):\n",
    "    for sentence in sentences:\n",
    "        yield(gensim.utils.simple_preprocess(str(sentence), deacc=True))  # deacc=True removes punctuations\n",
    "\n",
    "data_words = list(sent_to_words(data))\n",
    "\n",
    "print(data_words[:1])"
   ]
  },
  {
   "cell_type": "code",
   "execution_count": 21,
   "metadata": {},
   "outputs": [
    {
     "name": "stdout",
     "output_type": "stream",
     "text": [
      "['what', 'you', 'expect', 'they', 're', 'savages', 'one', 'lot', 'steals', 'goat', 'from', 'another', 'lot', 'and', 'before', 'you', 'know', 'it', 'they', 're', 'ripping', 'each_other', 'to', 'pieces']\n"
     ]
    }
   ],
   "source": [
    "# Build the bigram and trigram models\n",
    "bigram = gensim.models.Phrases(data_words, min_count=5, threshold=100) # higher threshold fewer phrases.\n",
    "trigram = gensim.models.Phrases(bigram[data_words], threshold=100)  \n",
    "\n",
    "# Faster way to get a sentence clubbed as a trigram/bigram\n",
    "bigram_mod = gensim.models.phrases.Phraser(bigram)\n",
    "trigram_mod = gensim.models.phrases.Phraser(trigram)\n",
    "\n",
    "# See trigram example\n",
    "print(trigram_mod[bigram_mod[data_words[0]]])"
   ]
  },
  {
   "cell_type": "code",
   "execution_count": 22,
   "metadata": {},
   "outputs": [],
   "source": [
    "# Define functions for stopwords, bigrams, trigrams and lemmatization\n",
    "def remove_stopwords(texts):\n",
    "    return [[word for word in simple_preprocess(str(doc)) if word not in stop_words] for doc in texts]\n",
    "\n",
    "def make_bigrams(texts):\n",
    "    return [bigram_mod[doc] for doc in texts]\n",
    "\n",
    "def make_trigrams(texts):\n",
    "    return [trigram_mod[bigram_mod[doc]] for doc in texts]\n",
    "\n",
    "def lemmatization(texts, allowed_postags=['NOUN', 'ADJ', 'VERB', 'ADV']):\n",
    "    \"\"\"https://spacy.io/api/annotation\"\"\"\n",
    "    texts_out = []\n",
    "    for sent in texts:\n",
    "        doc = nlp(\" \".join(sent)) \n",
    "        texts_out.append([token.lemma_ for token in doc if token.pos_ in allowed_postags])\n",
    "    return texts_out"
   ]
  },
  {
   "cell_type": "code",
   "execution_count": 23,
   "metadata": {},
   "outputs": [
    {
     "name": "stdout",
     "output_type": "stream",
     "text": [
      "[['expect', 'savage', 'lot', 'steal', 'goat', 'lot', 'know', 'rip', 'piece']]\n"
     ]
    }
   ],
   "source": [
    "# Remove Stop Words\n",
    "data_words_nostops = remove_stopwords(data_words)\n",
    "\n",
    "# Form Bigrams\n",
    "data_words_bigrams = make_bigrams(data_words_nostops)\n",
    "\n",
    "# Initialize spacy 'en' model, keeping only tagger component (for efficiency)\n",
    "nlp = spacy.load('en', disable=['parser', 'ner'])\n",
    "\n",
    "# Do lemmatization keeping only noun, adj, vb, adv\n",
    "data_lemmatized = lemmatization(data_words_bigrams, allowed_postags=['NOUN', 'ADJ', 'VERB', 'ADV'])\n",
    "\n",
    "print(data_lemmatized[:1])"
   ]
  },
  {
   "cell_type": "code",
   "execution_count": 24,
   "metadata": {},
   "outputs": [
    {
     "name": "stdout",
     "output_type": "stream",
     "text": [
      "[[(0, 1), (1, 1), (2, 1), (3, 2), (4, 1), (5, 1), (6, 1), (7, 1)]]\n"
     ]
    }
   ],
   "source": [
    "# Create Dictionary\n",
    "id2word = corpora.Dictionary(data_lemmatized)\n",
    "\n",
    "# Create Corpus\n",
    "texts = data_lemmatized\n",
    "\n",
    "# Term Document Frequency\n",
    "corpus = [id2word.doc2bow(text) for text in texts]\n",
    "\n",
    "# View\n",
    "print(corpus[:1])"
   ]
  },
  {
   "cell_type": "code",
   "execution_count": 10,
   "metadata": {},
   "outputs": [
    {
     "data": {
      "text/plain": [
       "[[('expect', 1),\n",
       "  ('goat', 1),\n",
       "  ('know', 1),\n",
       "  ('lot', 2),\n",
       "  ('piece', 1),\n",
       "  ('rip', 1),\n",
       "  ('savage', 1),\n",
       "  ('steal', 1)]]"
      ]
     },
     "execution_count": 10,
     "metadata": {},
     "output_type": "execute_result"
    }
   ],
   "source": [
    "# Human readable format of corpus (term-frequency)\n",
    "[[(id2word[id], freq) for id, freq in cp] for cp in corpus[:1]]"
   ]
  },
  {
   "cell_type": "code",
   "execution_count": 51,
   "metadata": {},
   "outputs": [],
   "source": [
    "# Build LDA model\n",
    "lda_model = gensim.models.ldamodel.LdaModel(corpus=corpus,\n",
    "                                           id2word=id2word,\n",
    "                                           num_topics=20, \n",
    "                                           random_state=100,\n",
    "                                           update_every=1,\n",
    "                                           chunksize=100,\n",
    "                                           passes=10,\n",
    "                                           alpha='auto',\n",
    "                                           eta =10,\n",
    "                                           per_word_topics=True)"
   ]
  },
  {
   "cell_type": "code",
   "execution_count": 52,
   "metadata": {},
   "outputs": [
    {
     "name": "stdout",
     "output_type": "stream",
     "text": [
      "[(0,\n",
      "  '0.000*\"bash\" + 0.000*\"mero\" + 0.000*\"convinced\" + 0.000*\"entertainment\" + '\n",
      "  '0.000*\"appreciation\" + 0.000*\"countless\" + 0.000*\"yap\" + 0.000*\"collect\" + '\n",
      "  '0.000*\"titan\" + 0.000*\"pauper\"'),\n",
      " (1,\n",
      "  '0.000*\"bash\" + 0.000*\"mero\" + 0.000*\"convinced\" + 0.000*\"entertainment\" + '\n",
      "  '0.000*\"appreciation\" + 0.000*\"countless\" + 0.000*\"yap\" + 0.000*\"collect\" + '\n",
      "  '0.000*\"titan\" + 0.000*\"pauper\"'),\n",
      " (2,\n",
      "  '0.000*\"bash\" + 0.000*\"mero\" + 0.000*\"convinced\" + 0.000*\"entertainment\" + '\n",
      "  '0.000*\"appreciation\" + 0.000*\"countless\" + 0.000*\"yap\" + 0.000*\"collect\" + '\n",
      "  '0.000*\"titan\" + 0.000*\"pauper\"'),\n",
      " (3,\n",
      "  '0.000*\"bash\" + 0.000*\"mero\" + 0.000*\"convinced\" + 0.000*\"entertainment\" + '\n",
      "  '0.000*\"appreciation\" + 0.000*\"countless\" + 0.000*\"yap\" + 0.000*\"collect\" + '\n",
      "  '0.000*\"titan\" + 0.000*\"pauper\"'),\n",
      " (4,\n",
      "  '0.000*\"bash\" + 0.000*\"mero\" + 0.000*\"convinced\" + 0.000*\"entertainment\" + '\n",
      "  '0.000*\"appreciation\" + 0.000*\"countless\" + 0.000*\"yap\" + 0.000*\"collect\" + '\n",
      "  '0.000*\"titan\" + 0.000*\"pauper\"'),\n",
      " (5,\n",
      "  '0.000*\"bash\" + 0.000*\"mero\" + 0.000*\"convinced\" + 0.000*\"entertainment\" + '\n",
      "  '0.000*\"appreciation\" + 0.000*\"countless\" + 0.000*\"yap\" + 0.000*\"collect\" + '\n",
      "  '0.000*\"titan\" + 0.000*\"pauper\"'),\n",
      " (6,\n",
      "  '0.000*\"bash\" + 0.000*\"mero\" + 0.000*\"convinced\" + 0.000*\"entertainment\" + '\n",
      "  '0.000*\"appreciation\" + 0.000*\"countless\" + 0.000*\"yap\" + 0.000*\"collect\" + '\n",
      "  '0.000*\"titan\" + 0.000*\"pauper\"'),\n",
      " (7,\n",
      "  '0.000*\"bash\" + 0.000*\"mero\" + 0.000*\"convinced\" + 0.000*\"entertainment\" + '\n",
      "  '0.000*\"appreciation\" + 0.000*\"countless\" + 0.000*\"yap\" + 0.000*\"collect\" + '\n",
      "  '0.000*\"titan\" + 0.000*\"pauper\"'),\n",
      " (8,\n",
      "  '0.000*\"bash\" + 0.000*\"mero\" + 0.000*\"convinced\" + 0.000*\"entertainment\" + '\n",
      "  '0.000*\"appreciation\" + 0.000*\"countless\" + 0.000*\"yap\" + 0.000*\"collect\" + '\n",
      "  '0.000*\"titan\" + 0.000*\"pauper\"'),\n",
      " (9,\n",
      "  '0.017*\"not\" + 0.011*\"be\" + 0.010*\"do\" + 0.008*\"know\" + 0.007*\"s\" + '\n",
      "  '0.007*\"man\" + 0.006*\"see\" + 0.006*\"come\" + 0.006*\"look\" + 0.005*\"go\"'),\n",
      " (10,\n",
      "  '0.000*\"bash\" + 0.000*\"mero\" + 0.000*\"convinced\" + 0.000*\"entertainment\" + '\n",
      "  '0.000*\"appreciation\" + 0.000*\"countless\" + 0.000*\"yap\" + 0.000*\"collect\" + '\n",
      "  '0.000*\"titan\" + 0.000*\"pauper\"'),\n",
      " (11,\n",
      "  '0.000*\"bash\" + 0.000*\"mero\" + 0.000*\"convinced\" + 0.000*\"entertainment\" + '\n",
      "  '0.000*\"appreciation\" + 0.000*\"countless\" + 0.000*\"yap\" + 0.000*\"collect\" + '\n",
      "  '0.000*\"titan\" + 0.000*\"pauper\"'),\n",
      " (12,\n",
      "  '0.000*\"bash\" + 0.000*\"mero\" + 0.000*\"convinced\" + 0.000*\"entertainment\" + '\n",
      "  '0.000*\"appreciation\" + 0.000*\"countless\" + 0.000*\"yap\" + 0.000*\"collect\" + '\n",
      "  '0.000*\"titan\" + 0.000*\"pauper\"'),\n",
      " (13,\n",
      "  '0.000*\"bash\" + 0.000*\"mero\" + 0.000*\"convinced\" + 0.000*\"entertainment\" + '\n",
      "  '0.000*\"appreciation\" + 0.000*\"countless\" + 0.000*\"yap\" + 0.000*\"collect\" + '\n",
      "  '0.000*\"titan\" + 0.000*\"pauper\"'),\n",
      " (14,\n",
      "  '0.000*\"bash\" + 0.000*\"mero\" + 0.000*\"convinced\" + 0.000*\"entertainment\" + '\n",
      "  '0.000*\"appreciation\" + 0.000*\"countless\" + 0.000*\"yap\" + 0.000*\"collect\" + '\n",
      "  '0.000*\"titan\" + 0.000*\"pauper\"'),\n",
      " (15,\n",
      "  '0.000*\"bash\" + 0.000*\"mero\" + 0.000*\"convinced\" + 0.000*\"entertainment\" + '\n",
      "  '0.000*\"appreciation\" + 0.000*\"countless\" + 0.000*\"yap\" + 0.000*\"collect\" + '\n",
      "  '0.000*\"titan\" + 0.000*\"pauper\"'),\n",
      " (16,\n",
      "  '0.000*\"bash\" + 0.000*\"mero\" + 0.000*\"convinced\" + 0.000*\"entertainment\" + '\n",
      "  '0.000*\"appreciation\" + 0.000*\"countless\" + 0.000*\"yap\" + 0.000*\"collect\" + '\n",
      "  '0.000*\"titan\" + 0.000*\"pauper\"'),\n",
      " (17,\n",
      "  '0.000*\"bash\" + 0.000*\"mero\" + 0.000*\"convinced\" + 0.000*\"entertainment\" + '\n",
      "  '0.000*\"appreciation\" + 0.000*\"countless\" + 0.000*\"yap\" + 0.000*\"collect\" + '\n",
      "  '0.000*\"titan\" + 0.000*\"pauper\"'),\n",
      " (18,\n",
      "  '0.000*\"bash\" + 0.000*\"mero\" + 0.000*\"convinced\" + 0.000*\"entertainment\" + '\n",
      "  '0.000*\"appreciation\" + 0.000*\"countless\" + 0.000*\"yap\" + 0.000*\"collect\" + '\n",
      "  '0.000*\"titan\" + 0.000*\"pauper\"'),\n",
      " (19,\n",
      "  '0.000*\"bash\" + 0.000*\"mero\" + 0.000*\"convinced\" + 0.000*\"entertainment\" + '\n",
      "  '0.000*\"appreciation\" + 0.000*\"countless\" + 0.000*\"yap\" + 0.000*\"collect\" + '\n",
      "  '0.000*\"titan\" + 0.000*\"pauper\"')]\n"
     ]
    }
   ],
   "source": [
    "# Print the Keyword in the 20 topics\n",
    "pprint(lda_model.print_topics())\n",
    "doc_lda = lda_model[corpus]"
   ]
  },
  {
   "cell_type": "code",
   "execution_count": 53,
   "metadata": {},
   "outputs": [
    {
     "name": "stdout",
     "output_type": "stream",
     "text": [
      "\n",
      "Perplexity:  -7.578037494869359\n",
      "\n",
      "Coherence Score:  0.5437313382396713\n"
     ]
    }
   ],
   "source": [
    "# Compute Perplexity\n",
    "print('\\nPerplexity: ', lda_model.log_perplexity(corpus))  # a measure of how good the model is. lower the better.\n",
    "\n",
    "# Compute Coherence Score\n",
    "coherence_model_lda = CoherenceModel(model=lda_model, texts=data_lemmatized, dictionary=id2word, coherence='c_v')\n",
    "coherence_lda = coherence_model_lda.get_coherence()\n",
    "print('\\nCoherence Score: ', coherence_lda)"
   ]
  },
  {
   "cell_type": "code",
   "execution_count": 54,
   "metadata": {},
   "outputs": [
    {
     "name": "stderr",
     "output_type": "stream",
     "text": [
      "/anaconda3/lib/python3.7/site-packages/pyLDAvis/_prepare.py:257: FutureWarning: Sorting because non-concatenation axis is not aligned. A future version\n",
      "of pandas will change to not sort by default.\n",
      "\n",
      "To accept the future behavior, pass 'sort=False'.\n",
      "\n",
      "To retain the current behavior and silence the warning, pass 'sort=True'.\n",
      "\n",
      "  return pd.concat([default_term_info] + list(topic_dfs))\n"
     ]
    },
    {
     "ename": "TypeError",
     "evalue": "Object of type complex is not JSON serializable",
     "output_type": "error",
     "traceback": [
      "\u001b[0;31m---------------------------------------------------------------------------\u001b[0m",
      "\u001b[0;31mTypeError\u001b[0m                                 Traceback (most recent call last)",
      "\u001b[0;32m/anaconda3/lib/python3.7/site-packages/IPython/core/formatters.py\u001b[0m in \u001b[0;36m__call__\u001b[0;34m(self, obj)\u001b[0m\n\u001b[1;32m    339\u001b[0m                 \u001b[0;32mpass\u001b[0m\u001b[0;34m\u001b[0m\u001b[0;34m\u001b[0m\u001b[0m\n\u001b[1;32m    340\u001b[0m             \u001b[0;32melse\u001b[0m\u001b[0;34m:\u001b[0m\u001b[0;34m\u001b[0m\u001b[0;34m\u001b[0m\u001b[0m\n\u001b[0;32m--> 341\u001b[0;31m                 \u001b[0;32mreturn\u001b[0m \u001b[0mprinter\u001b[0m\u001b[0;34m(\u001b[0m\u001b[0mobj\u001b[0m\u001b[0;34m)\u001b[0m\u001b[0;34m\u001b[0m\u001b[0;34m\u001b[0m\u001b[0m\n\u001b[0m\u001b[1;32m    342\u001b[0m             \u001b[0;31m# Finally look for special method names\u001b[0m\u001b[0;34m\u001b[0m\u001b[0;34m\u001b[0m\u001b[0;34m\u001b[0m\u001b[0m\n\u001b[1;32m    343\u001b[0m             \u001b[0mmethod\u001b[0m \u001b[0;34m=\u001b[0m \u001b[0mget_real_method\u001b[0m\u001b[0;34m(\u001b[0m\u001b[0mobj\u001b[0m\u001b[0;34m,\u001b[0m \u001b[0mself\u001b[0m\u001b[0;34m.\u001b[0m\u001b[0mprint_method\u001b[0m\u001b[0;34m)\u001b[0m\u001b[0;34m\u001b[0m\u001b[0;34m\u001b[0m\u001b[0m\n",
      "\u001b[0;32m/anaconda3/lib/python3.7/site-packages/pyLDAvis/_display.py\u001b[0m in \u001b[0;36m<lambda>\u001b[0;34m(data, kwds)\u001b[0m\n\u001b[1;32m    311\u001b[0m     \u001b[0mformatter\u001b[0m \u001b[0;34m=\u001b[0m \u001b[0mip\u001b[0m\u001b[0;34m.\u001b[0m\u001b[0mdisplay_formatter\u001b[0m\u001b[0;34m.\u001b[0m\u001b[0mformatters\u001b[0m\u001b[0;34m[\u001b[0m\u001b[0;34m'text/html'\u001b[0m\u001b[0;34m]\u001b[0m\u001b[0;34m\u001b[0m\u001b[0;34m\u001b[0m\u001b[0m\n\u001b[1;32m    312\u001b[0m     formatter.for_type(PreparedData,\n\u001b[0;32m--> 313\u001b[0;31m                        lambda data, kwds=kwargs: prepared_data_to_html(data, **kwds))\n\u001b[0m\u001b[1;32m    314\u001b[0m \u001b[0;34m\u001b[0m\u001b[0m\n\u001b[1;32m    315\u001b[0m \u001b[0;34m\u001b[0m\u001b[0m\n",
      "\u001b[0;32m/anaconda3/lib/python3.7/site-packages/pyLDAvis/_display.py\u001b[0m in \u001b[0;36mprepared_data_to_html\u001b[0;34m(data, d3_url, ldavis_url, ldavis_css_url, template_type, visid, use_http)\u001b[0m\n\u001b[1;32m    176\u001b[0m                            \u001b[0md3_url\u001b[0m\u001b[0;34m=\u001b[0m\u001b[0md3_url\u001b[0m\u001b[0;34m,\u001b[0m\u001b[0;34m\u001b[0m\u001b[0;34m\u001b[0m\u001b[0m\n\u001b[1;32m    177\u001b[0m                            \u001b[0mldavis_url\u001b[0m\u001b[0;34m=\u001b[0m\u001b[0mldavis_url\u001b[0m\u001b[0;34m,\u001b[0m\u001b[0;34m\u001b[0m\u001b[0;34m\u001b[0m\u001b[0m\n\u001b[0;32m--> 178\u001b[0;31m                            \u001b[0mvis_json\u001b[0m\u001b[0;34m=\u001b[0m\u001b[0mdata\u001b[0m\u001b[0;34m.\u001b[0m\u001b[0mto_json\u001b[0m\u001b[0;34m(\u001b[0m\u001b[0;34m)\u001b[0m\u001b[0;34m,\u001b[0m\u001b[0;34m\u001b[0m\u001b[0;34m\u001b[0m\u001b[0m\n\u001b[0m\u001b[1;32m    179\u001b[0m                            ldavis_css_url=ldavis_css_url)\n\u001b[1;32m    180\u001b[0m \u001b[0;34m\u001b[0m\u001b[0m\n",
      "\u001b[0;32m/anaconda3/lib/python3.7/site-packages/pyLDAvis/_prepare.py\u001b[0m in \u001b[0;36mto_json\u001b[0;34m(self)\u001b[0m\n\u001b[1;32m    415\u001b[0m \u001b[0;34m\u001b[0m\u001b[0m\n\u001b[1;32m    416\u001b[0m     \u001b[0;32mdef\u001b[0m \u001b[0mto_json\u001b[0m\u001b[0;34m(\u001b[0m\u001b[0mself\u001b[0m\u001b[0;34m)\u001b[0m\u001b[0;34m:\u001b[0m\u001b[0;34m\u001b[0m\u001b[0;34m\u001b[0m\u001b[0m\n\u001b[0;32m--> 417\u001b[0;31m        \u001b[0;32mreturn\u001b[0m \u001b[0mjson\u001b[0m\u001b[0;34m.\u001b[0m\u001b[0mdumps\u001b[0m\u001b[0;34m(\u001b[0m\u001b[0mself\u001b[0m\u001b[0;34m.\u001b[0m\u001b[0mto_dict\u001b[0m\u001b[0;34m(\u001b[0m\u001b[0;34m)\u001b[0m\u001b[0;34m,\u001b[0m \u001b[0mcls\u001b[0m\u001b[0;34m=\u001b[0m\u001b[0mNumPyEncoder\u001b[0m\u001b[0;34m)\u001b[0m\u001b[0;34m\u001b[0m\u001b[0;34m\u001b[0m\u001b[0m\n\u001b[0m",
      "\u001b[0;32m/anaconda3/lib/python3.7/json/__init__.py\u001b[0m in \u001b[0;36mdumps\u001b[0;34m(obj, skipkeys, ensure_ascii, check_circular, allow_nan, cls, indent, separators, default, sort_keys, **kw)\u001b[0m\n\u001b[1;32m    236\u001b[0m         \u001b[0mcheck_circular\u001b[0m\u001b[0;34m=\u001b[0m\u001b[0mcheck_circular\u001b[0m\u001b[0;34m,\u001b[0m \u001b[0mallow_nan\u001b[0m\u001b[0;34m=\u001b[0m\u001b[0mallow_nan\u001b[0m\u001b[0;34m,\u001b[0m \u001b[0mindent\u001b[0m\u001b[0;34m=\u001b[0m\u001b[0mindent\u001b[0m\u001b[0;34m,\u001b[0m\u001b[0;34m\u001b[0m\u001b[0;34m\u001b[0m\u001b[0m\n\u001b[1;32m    237\u001b[0m         \u001b[0mseparators\u001b[0m\u001b[0;34m=\u001b[0m\u001b[0mseparators\u001b[0m\u001b[0;34m,\u001b[0m \u001b[0mdefault\u001b[0m\u001b[0;34m=\u001b[0m\u001b[0mdefault\u001b[0m\u001b[0;34m,\u001b[0m \u001b[0msort_keys\u001b[0m\u001b[0;34m=\u001b[0m\u001b[0msort_keys\u001b[0m\u001b[0;34m,\u001b[0m\u001b[0;34m\u001b[0m\u001b[0;34m\u001b[0m\u001b[0m\n\u001b[0;32m--> 238\u001b[0;31m         **kw).encode(obj)\n\u001b[0m\u001b[1;32m    239\u001b[0m \u001b[0;34m\u001b[0m\u001b[0m\n\u001b[1;32m    240\u001b[0m \u001b[0;34m\u001b[0m\u001b[0m\n",
      "\u001b[0;32m/anaconda3/lib/python3.7/json/encoder.py\u001b[0m in \u001b[0;36mencode\u001b[0;34m(self, o)\u001b[0m\n\u001b[1;32m    197\u001b[0m         \u001b[0;31m# exceptions aren't as detailed.  The list call should be roughly\u001b[0m\u001b[0;34m\u001b[0m\u001b[0;34m\u001b[0m\u001b[0;34m\u001b[0m\u001b[0m\n\u001b[1;32m    198\u001b[0m         \u001b[0;31m# equivalent to the PySequence_Fast that ''.join() would do.\u001b[0m\u001b[0;34m\u001b[0m\u001b[0;34m\u001b[0m\u001b[0;34m\u001b[0m\u001b[0m\n\u001b[0;32m--> 199\u001b[0;31m         \u001b[0mchunks\u001b[0m \u001b[0;34m=\u001b[0m \u001b[0mself\u001b[0m\u001b[0;34m.\u001b[0m\u001b[0miterencode\u001b[0m\u001b[0;34m(\u001b[0m\u001b[0mo\u001b[0m\u001b[0;34m,\u001b[0m \u001b[0m_one_shot\u001b[0m\u001b[0;34m=\u001b[0m\u001b[0;32mTrue\u001b[0m\u001b[0;34m)\u001b[0m\u001b[0;34m\u001b[0m\u001b[0;34m\u001b[0m\u001b[0m\n\u001b[0m\u001b[1;32m    200\u001b[0m         \u001b[0;32mif\u001b[0m \u001b[0;32mnot\u001b[0m \u001b[0misinstance\u001b[0m\u001b[0;34m(\u001b[0m\u001b[0mchunks\u001b[0m\u001b[0;34m,\u001b[0m \u001b[0;34m(\u001b[0m\u001b[0mlist\u001b[0m\u001b[0;34m,\u001b[0m \u001b[0mtuple\u001b[0m\u001b[0;34m)\u001b[0m\u001b[0;34m)\u001b[0m\u001b[0;34m:\u001b[0m\u001b[0;34m\u001b[0m\u001b[0;34m\u001b[0m\u001b[0m\n\u001b[1;32m    201\u001b[0m             \u001b[0mchunks\u001b[0m \u001b[0;34m=\u001b[0m \u001b[0mlist\u001b[0m\u001b[0;34m(\u001b[0m\u001b[0mchunks\u001b[0m\u001b[0;34m)\u001b[0m\u001b[0;34m\u001b[0m\u001b[0;34m\u001b[0m\u001b[0m\n",
      "\u001b[0;32m/anaconda3/lib/python3.7/json/encoder.py\u001b[0m in \u001b[0;36miterencode\u001b[0;34m(self, o, _one_shot)\u001b[0m\n\u001b[1;32m    255\u001b[0m                 \u001b[0mself\u001b[0m\u001b[0;34m.\u001b[0m\u001b[0mkey_separator\u001b[0m\u001b[0;34m,\u001b[0m \u001b[0mself\u001b[0m\u001b[0;34m.\u001b[0m\u001b[0mitem_separator\u001b[0m\u001b[0;34m,\u001b[0m \u001b[0mself\u001b[0m\u001b[0;34m.\u001b[0m\u001b[0msort_keys\u001b[0m\u001b[0;34m,\u001b[0m\u001b[0;34m\u001b[0m\u001b[0;34m\u001b[0m\u001b[0m\n\u001b[1;32m    256\u001b[0m                 self.skipkeys, _one_shot)\n\u001b[0;32m--> 257\u001b[0;31m         \u001b[0;32mreturn\u001b[0m \u001b[0m_iterencode\u001b[0m\u001b[0;34m(\u001b[0m\u001b[0mo\u001b[0m\u001b[0;34m,\u001b[0m \u001b[0;36m0\u001b[0m\u001b[0;34m)\u001b[0m\u001b[0;34m\u001b[0m\u001b[0;34m\u001b[0m\u001b[0m\n\u001b[0m\u001b[1;32m    258\u001b[0m \u001b[0;34m\u001b[0m\u001b[0m\n\u001b[1;32m    259\u001b[0m def _make_iterencode(markers, _default, _encoder, _indent, _floatstr,\n",
      "\u001b[0;32m/anaconda3/lib/python3.7/site-packages/pyLDAvis/utils.py\u001b[0m in \u001b[0;36mdefault\u001b[0;34m(self, obj)\u001b[0m\n\u001b[1;32m    144\u001b[0m         \u001b[0;32mif\u001b[0m \u001b[0misinstance\u001b[0m\u001b[0;34m(\u001b[0m\u001b[0mobj\u001b[0m\u001b[0;34m,\u001b[0m \u001b[0mnp\u001b[0m\u001b[0;34m.\u001b[0m\u001b[0mfloat64\u001b[0m\u001b[0;34m)\u001b[0m \u001b[0;32mor\u001b[0m \u001b[0misinstance\u001b[0m\u001b[0;34m(\u001b[0m\u001b[0mobj\u001b[0m\u001b[0;34m,\u001b[0m \u001b[0mnp\u001b[0m\u001b[0;34m.\u001b[0m\u001b[0mfloat32\u001b[0m\u001b[0;34m)\u001b[0m\u001b[0;34m:\u001b[0m\u001b[0;34m\u001b[0m\u001b[0;34m\u001b[0m\u001b[0m\n\u001b[1;32m    145\u001b[0m             \u001b[0;32mreturn\u001b[0m \u001b[0mfloat\u001b[0m\u001b[0;34m(\u001b[0m\u001b[0mobj\u001b[0m\u001b[0;34m)\u001b[0m\u001b[0;34m\u001b[0m\u001b[0;34m\u001b[0m\u001b[0m\n\u001b[0;32m--> 146\u001b[0;31m         \u001b[0;32mreturn\u001b[0m \u001b[0mjson\u001b[0m\u001b[0;34m.\u001b[0m\u001b[0mJSONEncoder\u001b[0m\u001b[0;34m.\u001b[0m\u001b[0mdefault\u001b[0m\u001b[0;34m(\u001b[0m\u001b[0mself\u001b[0m\u001b[0;34m,\u001b[0m \u001b[0mobj\u001b[0m\u001b[0;34m)\u001b[0m\u001b[0;34m\u001b[0m\u001b[0;34m\u001b[0m\u001b[0m\n\u001b[0m",
      "\u001b[0;32m/anaconda3/lib/python3.7/json/encoder.py\u001b[0m in \u001b[0;36mdefault\u001b[0;34m(self, o)\u001b[0m\n\u001b[1;32m    177\u001b[0m \u001b[0;34m\u001b[0m\u001b[0m\n\u001b[1;32m    178\u001b[0m         \"\"\"\n\u001b[0;32m--> 179\u001b[0;31m         raise TypeError(f'Object of type {o.__class__.__name__} '\n\u001b[0m\u001b[1;32m    180\u001b[0m                         f'is not JSON serializable')\n\u001b[1;32m    181\u001b[0m \u001b[0;34m\u001b[0m\u001b[0m\n",
      "\u001b[0;31mTypeError\u001b[0m: Object of type complex is not JSON serializable"
     ]
    },
    {
     "data": {
      "text/plain": [
       "PreparedData(topic_coordinates=                                x        y  topics  cluster       Freq\n",
       "topic                                                                 \n",
       "9        (0.16494003385305403+0j)       0j       1        1  99.922005\n",
       "7       (-0.00868105441331865+0j)       0j       2        1   0.006701\n",
       "17     (-0.008681054413318652+0j)       0j       3        1   0.006395\n",
       "0      (-0.008681054413318652+0j)       0j       4        1   0.005537\n",
       "10     (-0.008681054413318652+0j)       0j       5        1   0.005143\n",
       "18      (-0.00868105441331864+0j)  (-0+0j)       6        1   0.004208\n",
       "2       (-0.00868105441331864+0j)  (-0+0j)       7        1   0.003924\n",
       "5       (-0.00868105441331864+0j)  (-0+0j)       8        1   0.003815\n",
       "4       (-0.00868105441331864+0j)  (-0+0j)       9        1   0.003760\n",
       "6       (-0.00868105441331864+0j)  (-0+0j)      10        1   0.003715\n",
       "11      (-0.00868105441331864+0j)  (-0+0j)      11        1   0.003700\n",
       "12      (-0.00868105441331864+0j)  (-0+0j)      12        1   0.003651\n",
       "3       (-0.00868105441331864+0j)       0j      13        1   0.003621\n",
       "1       (-0.00868105441331864+0j)       0j      14        1   0.003538\n",
       "16      (-0.00868105441331864+0j)       0j      15        1   0.003515\n",
       "14      (-0.00868105441331864+0j)       0j      16        1   0.003469\n",
       "19      (-0.00868105441331864+0j)  (-0+0j)      17        1   0.003446\n",
       "13     (-0.008681054413318644+0j)       0j      18        1   0.003322\n",
       "15     (-0.008681054413318628+0j)       0j      19        1   0.003297\n",
       "8      (-0.008681054413318628+0j)       0j      20        1   0.003245, topic_info=     Category         Freq           Term        Total  loglift  logprob\n",
       "558   Default  1448.000000             be  1448.000000  30.0000   30.000\n",
       "53    Default  1307.000000             do  1307.000000  29.0000   29.000\n",
       "560   Default  2125.000000            not  2125.000000  28.0000   28.000\n",
       "2     Default   982.000000           know   982.000000  27.0000   27.000\n",
       "571   Default   952.000000              s   952.000000  26.0000   26.000\n",
       "16    Default   928.000000            man   928.000000  25.0000   25.000\n",
       "11    Default   801.000000            see   801.000000  24.0000   24.000\n",
       "90    Default   784.000000           come   784.000000  23.0000   23.000\n",
       "112   Default   728.000000           look   728.000000  22.0000   22.000\n",
       "48    Default   657.000000             go   657.000000  21.0000   21.000\n",
       "44    Default   651.000000           want   651.000000  20.0000   20.000\n",
       "679   Default   632.000000           have   632.000000  19.0000   19.000\n",
       "15    Default   576.000000            get   576.000000  18.0000   18.000\n",
       "29    Default   565.000000          think   565.000000  17.0000   17.000\n",
       "49    Default   503.000000         father   503.000000  16.0000   16.000\n",
       "714   Default   499.000000           walk   499.000000  15.0000   15.000\n",
       "42    Default   496.000000            say   496.000000  14.0000   14.000\n",
       "18    Default   496.000000           back   496.000000  13.0000   13.000\n",
       "80    Default   469.000000           lord   469.000000  12.0000   12.000\n",
       "91    Default   468.000000           tell   468.000000  11.0000   11.000\n",
       "151   Default   464.000000           take   464.000000  10.0000   10.000\n",
       "17    Default   442.000000          would   442.000000   9.0000    9.000\n",
       "116   Default   440.000000          north   440.000000   8.0000    8.000\n",
       "540   Default   438.000000           turn   438.000000   7.0000    7.000\n",
       "33    Default   435.000000           kill   435.000000   6.0000    6.000\n",
       "414   Default   435.000000           make   435.000000   5.0000    5.000\n",
       "40    Default   431.000000           good   431.000000   4.0000    4.000\n",
       "210   Default   417.000000          queen   417.000000   3.0000    3.000\n",
       "10    Default   409.000000          never   409.000000   2.0000    2.000\n",
       "12    Default   406.000000          thing   406.000000   1.0000    1.000\n",
       "...       ...          ...            ...          ...      ...      ...\n",
       "3096  Topic20     0.000594         stress     5.834192   1.1427   -8.853\n",
       "3150  Topic20     0.000594          lorch     5.834280   1.1427   -8.853\n",
       "3148  Topic20     0.000594          amory     5.834414   1.1427   -8.853\n",
       "3133  Topic20     0.000594        succumb     5.834272   1.1427   -8.853\n",
       "3129  Topic20     0.000594          stoat     5.834194   1.1427   -8.853\n",
       "3128  Topic20     0.000594       stockade     5.834311   1.1427   -8.853\n",
       "6994  Topic20     0.000594       annoying    91.034645  -1.6048   -8.853\n",
       "2323  Topic20     0.000594      swordplay     5.837357   1.1422   -8.853\n",
       "2324  Topic20     0.000594       braavosi     5.937723   1.1251   -8.853\n",
       "2326  Topic20     0.000594       familiar    11.787561   0.4394   -8.853\n",
       "2327  Topic20     0.000594         escape    21.015272  -0.1388   -8.853\n",
       "2328  Topic20     0.000594         engage     5.976397   1.1186   -8.853\n",
       "2329  Topic20     0.000594          grief     6.638994   1.0135   -8.853\n",
       "2330  Topic20     0.000594        unarmed     6.432274   1.0451   -8.853\n",
       "2332  Topic20     0.000594          sadly     5.851550   1.1397   -8.853\n",
       "2333  Topic20     0.000594           slit     6.038658   1.1083   -8.853\n",
       "2335  Topic20     0.000594           sign     8.999290   0.7093   -8.853\n",
       "2348  Topic20     0.000594           urge     5.836761   1.1423   -8.853\n",
       "2336  Topic20     0.000594         awhile    20.193346  -0.0989   -8.853\n",
       "2337  Topic20     0.000594        examine    23.393242  -0.2460   -8.853\n",
       "2338  Topic20     0.000594  maester_aemon     6.888963   0.9765   -8.853\n",
       "2339  Topic20     0.000594          await     5.943985   1.1241   -8.853\n",
       "2340  Topic20     0.000594         gently     5.837757   1.1421   -8.853\n",
       "2341  Topic20     0.000594          prove    23.648476  -0.2569   -8.853\n",
       "2342  Topic20     0.000594           plot    16.180765   0.1226   -8.853\n",
       "2344  Topic20     0.000594        consort     6.089759   1.0998   -8.853\n",
       "2345  Topic20     0.000594            eld     6.164834   1.0876   -8.853\n",
       "2346  Topic20     0.000594         arrest     7.284510   0.9207   -8.853\n",
       "2321  Topic20     0.000594            bar    26.851654  -0.3839   -8.853\n",
       "2320  Topic20     0.000594         scrape     5.837546   1.1421   -8.853\n",
       "\n",
       "[8477 rows x 6 columns], token_table=      Topic      Freq        Term\n",
       "term                             \n",
       "1922      1  1.028425     abiding\n",
       "630       1  1.028426       abode\n",
       "1945      1  1.028425    absentee\n",
       "561       1  1.028426   abundance\n",
       "3274      1  1.028418  accusation\n",
       "2283      1  1.028425       acorn\n",
       "1160      1  1.028426  admittedly\n",
       "1877      1  1.028425     adviser\n",
       "738       1  1.028426      aleena\n",
       "1501      1  1.028425    amarylli\n",
       "3148      1  1.028381       amory\n",
       "6994      1  0.999619    annoying\n",
       "2314      1  1.028424   apartment\n",
       "1288      1  1.028426       arakh\n",
       "1760      1  1.028425     archery\n",
       "1440      1  1.028425    archonel\n",
       "2346      1  0.960943      arrest\n",
       "2086      1  1.028425     attaint\n",
       "847       1  1.028426     attract\n",
       "2339      1  1.009424       await\n",
       "2336      1  0.990425      awhile\n",
       "2117      1  1.028425        axel\n",
       "18        1  0.999662        back\n",
       "1170      1  1.028426      ballad\n",
       "1007      1  1.028426    bankrupt\n",
       "2321      1  1.005525         bar\n",
       "2508      1  1.028424   battleaxe\n",
       "2980      1  1.028411      bauble\n",
       "558       1  1.000253          be\n",
       "734       1  1.028426       becca\n",
       "...     ...       ...         ...\n",
       "1453      1  1.028425  vermithrax\n",
       "1704      1  1.028425       vigil\n",
       "2620      1  1.028423     violent\n",
       "2265      1  1.028425      vorkoy\n",
       "1297      1  1.028426        vroz\n",
       "2485      1  1.028424     waldron\n",
       "714       1  0.999656        walk\n",
       "44        1  1.000381        want\n",
       "1539      1  1.028425      warmer\n",
       "678       1  1.028426     whatnot\n",
       "1376      1  1.028425  whereabout\n",
       "779       1  1.028426   whetstone\n",
       "2635      1  1.028423       whiff\n",
       "500       1  1.028426     widowed\n",
       "2621      1  1.028423   widowhood\n",
       "1997      1  1.028425       wilde\n",
       "637       1  1.028426      wintry\n",
       "3275      1  1.028418    withdraw\n",
       "2929      1  1.028422        wive\n",
       "1486      1  1.028425         woe\n",
       "2618      1  1.028424   wolfswood\n",
       "3379      1  1.028417      worked\n",
       "17        1  1.000938       would\n",
       "1777      1  1.028422       wrath\n",
       "1895      1  1.028425         wyl\n",
       "740       1  1.028426       wylla\n",
       "2097      1  1.028425        yank\n",
       "1655      1  1.028425      yanked\n",
       "1365      1  1.028426      yearle\n",
       "3092      1  1.028402      zuriff\n",
       "\n",
       "[473 rows x 3 columns], R=30, lambda_step=0.01, plot_opts={'xlab': 'PC1', 'ylab': 'PC2'}, topic_order=[10, 8, 18, 1, 11, 19, 3, 6, 5, 7, 12, 13, 4, 2, 17, 15, 20, 14, 16, 9])"
      ]
     },
     "execution_count": 54,
     "metadata": {},
     "output_type": "execute_result"
    }
   ],
   "source": [
    "# Visualize the topics\n",
    "pyLDAvis.enable_notebook()\n",
    "vis = pyLDAvis.gensim.prepare(lda_model, corpus, id2word)\n",
    "vis"
   ]
  },
  {
   "cell_type": "code",
   "execution_count": null,
   "metadata": {},
   "outputs": [],
   "source": [
    "#### Download File: http://mallet.cs.umass.edu/dist/mallet-2.0.8.zip\n",
    "# mallet_path = '/Users/joycechen/Desktop/ML/SM_Project/mallet-2.0.8/bin/mallet'  # update this path\n",
    "# ldamallet = gensim.models.wrappers.LdaMallet(mallet_path, corpus=corpus, num_topics=20, id2word=id2word)"
   ]
  },
  {
   "cell_type": "code",
   "execution_count": 15,
   "metadata": {},
   "outputs": [],
   "source": [
    "def compute_coherence_values(dictionary, corpus, texts, limit, start=2, step=3):\n",
    "    \"\"\"\n",
    "    Compute c_v coherence for various number of topics\n",
    "\n",
    "    Parameters:\n",
    "    ----------\n",
    "    dictionary : Gensim dictionary\n",
    "    corpus : Gensim corpus\n",
    "    texts : List of input texts\n",
    "    limit : Max num of topics\n",
    "\n",
    "    Returns:\n",
    "    -------\n",
    "    model_list : List of LDA topic models\n",
    "    coherence_values : Coherence values corresponding to the LDA model with respective number of topics\n",
    "    \"\"\"\n",
    "    coherence_values = []\n",
    "    model_list = []\n",
    "    for num_topics in range(start, limit, step):\n",
    "#         model = gensim.models.wrappers.LdaMallet(mallet_path, corpus=corpus, num_topics=num_topics, id2word=id2word)\n",
    "        model = gensim.models.ldamodel.LdaModel(corpus=corpus,\n",
    "                                           id2word=id2word,\n",
    "                                           num_topics=num_topics, \n",
    "                                           random_state=100,\n",
    "                                           update_every=1,\n",
    "                                           chunksize=100,\n",
    "                                           passes=10,\n",
    "                                           alpha='auto',\n",
    "                                           per_word_topics=True)\n",
    "        model_list.append(model)\n",
    "        coherencemodel = CoherenceModel(model=model, texts=texts, dictionary=dictionary, coherence='c_v')\n",
    "        coherence_values.append(coherencemodel.get_coherence())\n",
    "\n",
    "    return model_list, coherence_values"
   ]
  },
  {
   "cell_type": "code",
   "execution_count": 16,
   "metadata": {},
   "outputs": [],
   "source": [
    "\n",
    "model_list, coherence_values = compute_coherence_values(dictionary=id2word, corpus=corpus, texts=data_lemmatized, start=5, limit=60, step=5)\n"
   ]
  },
  {
   "cell_type": "code",
   "execution_count": 17,
   "metadata": {},
   "outputs": [
    {
     "data": {
      "image/png": "[encoded data removed]",
      "text/plain": [
       "<Figure size 432x288 with 1 Axes>"
      ]
     },
     "metadata": {
      "needs_background": "light"
     },
     "output_type": "display_data"
    }
   ],
   "source": [
    "# Show graph\n",
    "limit=60; start=5; step=5;\n",
    "x = range(start, limit, step)\n",
    "plt.plot(x, coherence_values)\n",
    "plt.xlabel(\"Num Topics\")\n",
    "plt.ylabel(\"Coherence score\")\n",
    "plt.legend((\"coherence_values\"), loc='best')\n",
    "plt.show()"
   ]
  },
  {
   "cell_type": "code",
   "execution_count": 18,
   "metadata": {},
   "outputs": [
    {
     "name": "stdout",
     "output_type": "stream",
     "text": [
      "Num Topics = 5  has Coherence Value of 0.3931\n",
      "Num Topics = 10  has Coherence Value of 0.3492\n",
      "Num Topics = 15  has Coherence Value of 0.3524\n",
      "Num Topics = 20  has Coherence Value of 0.3502\n",
      "Num Topics = 25  has Coherence Value of 0.3521\n",
      "Num Topics = 30  has Coherence Value of 0.4352\n",
      "Num Topics = 35  has Coherence Value of 0.5836\n",
      "Num Topics = 40  has Coherence Value of 0.5854\n",
      "Num Topics = 45  has Coherence Value of 0.5702\n",
      "Num Topics = 50  has Coherence Value of 0.5527\n",
      "Num Topics = 55  has Coherence Value of 0.5575\n"
     ]
    }
   ],
   "source": [
    "# Print the coherence scores\n",
    "for m, cv in zip(x, coherence_values):\n",
    "    print(\"Num Topics =\", m, \" has Coherence Value of\", round(cv, 4))"
   ]
  },
  {
   "cell_type": "code",
   "execution_count": 23,
   "metadata": {},
   "outputs": [
    {
     "name": "stdout",
     "output_type": "stream",
     "text": [
      "[(0,\n",
      "  '0.236*\"way\" + 0.115*\"fuck\" + 0.098*\"mean\" + 0.076*\"city\" + 0.058*\"choose\" + '\n",
      "  '0.049*\"someone\" + 0.048*\"old\" + 0.039*\"robert\" + 0.034*\"new\" + '\n",
      "  '0.027*\"hunt\"'),\n",
      " (1,\n",
      "  '0.181*\"never\" + 0.180*\"thing\" + 0.127*\"hand\" + 0.127*\"ever\" + 0.106*\"wall\" '\n",
      "  '+ 0.090*\"head\" + 0.060*\"life\" + 0.038*\"south\" + 0.000*\"not\" + 0.000*\"be\"'),\n",
      " (2,\n",
      "  '0.391*\"know\" + 0.258*\"want\" + 0.199*\"father\" + 0.043*\"hold\" + 0.028*\"lie\" + '\n",
      "  '0.000*\"not\" + 0.000*\"be\" + 0.000*\"s\" + 0.000*\"have\" + 0.000*\"make\"'),\n",
      " (3,\n",
      "  '0.355*\"look\" + 0.275*\"think\" + 0.131*\"die\" + 0.077*\"ask\" + 0.061*\"bran\" + '\n",
      "  '0.000*\"not\" + 0.000*\"be\" + 0.000*\"s\" + 0.000*\"turn\" + 0.000*\"walk\"'),\n",
      " (4,\n",
      "  '0.442*\"man\" + 0.184*\"king\" + 0.117*\"run\" + 0.081*\"sister\" + '\n",
      "  '0.034*\"mountain\" + 0.033*\"rest\" + 0.007*\"lion\" + 0.004*\"andal\" + '\n",
      "  '0.000*\"quick\" + 0.000*\"not\"'),\n",
      " (5,\n",
      "  '0.269*\"take\" + 0.215*\"jon\" + 0.117*\"love\" + 0.066*\"anything\" + '\n",
      "  '0.052*\"kings_lande\" + 0.048*\"raven\" + 0.026*\"casterly_rock\" + '\n",
      "  '0.026*\"afraid\" + 0.025*\"water\" + 0.022*\"foot\"'),\n",
      " (6,\n",
      "  '0.424*\"tell\" + 0.243*\"give\" + 0.145*\"night\" + 0.000*\"not\" + 0.000*\"be\" + '\n",
      "  '0.000*\"s\" + 0.000*\"use\" + 0.000*\"ill\" + 0.000*\"crow\" + 0.000*\"have\"'),\n",
      " (7,\n",
      "  '0.317*\"back\" + 0.132*\"away\" + 0.112*\"first\" + 0.066*\"true\" + 0.057*\"drink\" '\n",
      "  '+ 0.053*\"horse\" + 0.049*\"forgive\" + 0.042*\"course\" + 0.028*\"white_walker\" + '\n",
      "  '0.012*\"catch\"'),\n",
      " (8,\n",
      "  '0.299*\"go\" + 0.262*\"get\" + 0.197*\"kill\" + 0.097*\"stark\" + '\n",
      "  '0.051*\"understand\" + 0.000*\"not\" + 0.000*\"be\" + 0.000*\"s\" + 0.000*\"have\" + '\n",
      "  '0.000*\"walk\"'),\n",
      " (9,\n",
      "  '0.390*\"see\" + 0.145*\"people\" + 0.111*\"sword\" + 0.105*\"family\" + '\n",
      "  '0.053*\"word\" + 0.033*\"far\" + 0.023*\"break\" + 0.017*\"pass\" + 0.014*\"swing\" + '\n",
      "  '0.009*\"coward\"'),\n",
      " (10,\n",
      "  '0.400*\"do\" + 0.134*\"would\" + 0.110*\"dead\" + 0.105*\"well\" + 0.061*\"house\" + '\n",
      "  '0.047*\"name\" + 0.038*\"work\" + 0.025*\"close\" + 0.008*\"fine\" + '\n",
      "  '0.006*\"baratheon\"'),\n",
      " (11,\n",
      "  '0.163*\"long\" + 0.151*\"lannister\" + 0.145*\"lady\" + 0.104*\"nothing\" + '\n",
      "  '0.096*\"mother\" + 0.088*\"day\" + 0.036*\"honor\" + 0.026*\"train\" + 0.024*\"fool\" '\n",
      "  '+ 0.013*\"feed\"'),\n",
      " (12,\n",
      "  '0.405*\"come\" + 0.137*\"still\" + 0.081*\"last\" + 0.042*\"rule\" + 0.040*\"feel\" + '\n",
      "  '0.038*\"swear\" + 0.033*\"god\" + 0.026*\"northern\" + 0.024*\"better\" + '\n",
      "  '0.024*\"death\"'),\n",
      " (13,\n",
      "  '0.277*\"could\" + 0.179*\"child\" + 0.164*\"even\" + 0.088*\"year\" + '\n",
      "  '0.043*\"thousand\" + 0.040*\"belong\" + 0.000*\"not\" + 0.000*\"be\" + 0.000*\"s\" + '\n",
      "  '0.000*\"have\"'),\n",
      " (14,\n",
      "  '0.122*\"expect\" + 0.121*\"lot\" + 0.120*\"young\" + 0.111*\"sorry\" + '\n",
      "  '0.071*\"steal\" + 0.022*\"piece\" + 0.007*\"goat\" + 0.004*\"rip\" + 0.000*\"be\" + '\n",
      "  '0.000*\"unmarried\"'),\n",
      " (15,\n",
      "  '0.242*\"find\" + 0.203*\"bring\" + 0.109*\"perhaps\" + 0.085*\"seem\" + '\n",
      "  '0.080*\"snow\" + 0.053*\"move\" + 0.000*\"not\" + 0.000*\"be\" + 0.000*\"s\" + '\n",
      "  '0.000*\"make\"'),\n",
      " (16,\n",
      "  '0.297*\"brother\" + 0.173*\"much\" + 0.121*\"show\" + 0.040*\"worry\" + '\n",
      "  '0.023*\"warn\" + 0.010*\"duty\" + 0.000*\"not\" + 0.000*\"be\" + 0.000*\"s\" + '\n",
      "  '0.000*\"dragon\"'),\n",
      " (17,\n",
      "  '0.204*\"lord\" + 0.168*\"need\" + 0.091*\"watch\" + 0.084*\"tyrion\" + '\n",
      "  '0.058*\"winter\" + 0.049*\"ride\" + 0.047*\"boy\" + 0.043*\"put\" + 0.029*\"order\" + '\n",
      "  '0.026*\"quite\"'),\n",
      " (18,\n",
      "  '0.222*\"north\" + 0.217*\"good\" + 0.210*\"queen\" + 0.118*\"winterfell\" + '\n",
      "  '0.104*\"keep\" + 0.012*\"protector\" + 0.007*\"news\" + 0.007*\"realm\" + '\n",
      "  '0.000*\"practice\" + 0.000*\"not\"'),\n",
      " (19,\n",
      "  '0.486*\"say\" + 0.210*\"always\" + 0.075*\"wildling\" + 0.028*\"trouble\" + '\n",
      "  '0.000*\"not\" + 0.000*\"s\" + 0.000*\"have\" + 0.000*\"be\" + 0.000*\"believe\" + '\n",
      "  '0.000*\"nice\"')]\n"
     ]
    }
   ],
   "source": [
    "# Select the model and print the topics\n",
    "optimal_model = model_list[3] # here k = 20, the topics start getting repetative at k = 25 \n",
    "model_topics = optimal_model.show_topics(formatted=False)\n",
    "pprint(optimal_model.print_topics(num_words=10))"
   ]
  },
  {
   "cell_type": "code",
   "execution_count": null,
   "metadata": {},
   "outputs": [],
   "source": []
  }
 ],
 "metadata": {
  "kernelspec": {
   "display_name": "Python 3",
   "language": "python",
   "name": "python3"
  },
  "language_info": {
   "codemirror_mode": {
    "name": "ipython",
    "version": 3
   },
   "file_extension": ".py",
   "mimetype": "text/x-python",
   "name": "python",
   "nbconvert_exporter": "python",
   "pygments_lexer": "ipython3",
   "version": "3.7.3"
  }
 },
 "nbformat": 4,
 "nbformat_minor": 2
}
