{
 "cells": [
  {
   "cell_type": "code",
   "execution_count": 1,
   "metadata": {},
   "outputs": [],
   "source": [
    "import re\n",
    "import numpy as np\n",
    "import pandas as pd\n",
    "from pprint import pprint\n",
    "import gensim\n",
    "import gensim.corpora as corpora\n",
    "from gensim.utils import simple_preprocess\n",
    "from gensim.models import Word2Vec\n",
    "import spacy\n",
    "from sklearn.decomposition import PCA\n",
    "from matplotlib import pyplot"
   ]
  },
  {
   "cell_type": "code",
   "execution_count": 2,
   "metadata": {},
   "outputs": [],
   "source": [
    "# NLTK Stop words\n",
    "from nltk.corpus import stopwords\n",
    "stop_words = stopwords.words('english')\n",
    "stop_words.extend(['from', 'subject', 're', 'edu', 'use'])"
   ]
  },
  {
   "cell_type": "code",
   "execution_count": 3,
   "metadata": {},
   "outputs": [
    {
     "data": {
      "text/html": [
       "<div>\n",
       "<style scoped>\n",
       "    .dataframe tbody tr th:only-of-type {\n",
       "        vertical-align: middle;\n",
       "    }\n",
       "\n",
       "    .dataframe tbody tr th {\n",
       "        vertical-align: top;\n",
       "    }\n",
       "\n",
       "    .dataframe thead th {\n",
       "        text-align: right;\n",
       "    }\n",
       "</style>\n",
       "<table border=\"1\" class=\"dataframe\">\n",
       "  <thead>\n",
       "    <tr style=\"text-align: right;\">\n",
       "      <th></th>\n",
       "      <th>Column1</th>\n",
       "      <th>Season</th>\n",
       "      <th>Episode</th>\n",
       "      <th>Sentence</th>\n",
       "      <th>Name</th>\n",
       "      <th>N_serie</th>\n",
       "      <th>N_Season</th>\n",
       "      <th>Emision Date</th>\n",
       "    </tr>\n",
       "  </thead>\n",
       "  <tbody>\n",
       "    <tr>\n",
       "      <th>0</th>\n",
       "      <td>1</td>\n",
       "      <td>Season 1</td>\n",
       "      <td>winter is coming</td>\n",
       "      <td>What d’you expect? They’re savages One lot ste...</td>\n",
       "      <td>waymar royce</td>\n",
       "      <td>1</td>\n",
       "      <td>1</td>\n",
       "      <td>17/04/2011</td>\n",
       "    </tr>\n",
       "    <tr>\n",
       "      <th>1</th>\n",
       "      <td>2</td>\n",
       "      <td>Season 1</td>\n",
       "      <td>winter is coming</td>\n",
       "      <td>I’ve never seen wildlings do a thing like this...</td>\n",
       "      <td>will</td>\n",
       "      <td>1</td>\n",
       "      <td>1</td>\n",
       "      <td>17/04/2011</td>\n",
       "    </tr>\n",
       "    <tr>\n",
       "      <th>2</th>\n",
       "      <td>3</td>\n",
       "      <td>Season 1</td>\n",
       "      <td>winter is coming</td>\n",
       "      <td>How close did you get?</td>\n",
       "      <td>waymar royce</td>\n",
       "      <td>1</td>\n",
       "      <td>1</td>\n",
       "      <td>17/04/2011</td>\n",
       "    </tr>\n",
       "    <tr>\n",
       "      <th>3</th>\n",
       "      <td>4</td>\n",
       "      <td>Season 1</td>\n",
       "      <td>winter is coming</td>\n",
       "      <td>Close as any man would</td>\n",
       "      <td>will</td>\n",
       "      <td>1</td>\n",
       "      <td>1</td>\n",
       "      <td>17/04/2011</td>\n",
       "    </tr>\n",
       "    <tr>\n",
       "      <th>4</th>\n",
       "      <td>5</td>\n",
       "      <td>Season 1</td>\n",
       "      <td>winter is coming</td>\n",
       "      <td>We should head back to the wall</td>\n",
       "      <td>gared</td>\n",
       "      <td>1</td>\n",
       "      <td>1</td>\n",
       "      <td>17/04/2011</td>\n",
       "    </tr>\n",
       "  </tbody>\n",
       "</table>\n",
       "</div>"
      ],
      "text/plain": [
       "   Column1    Season           Episode  \\\n",
       "0        1  Season 1  winter is coming   \n",
       "1        2  Season 1  winter is coming   \n",
       "2        3  Season 1  winter is coming   \n",
       "3        4  Season 1  winter is coming   \n",
       "4        5  Season 1  winter is coming   \n",
       "\n",
       "                                            Sentence          Name  N_serie  \\\n",
       "0  What d’you expect? They’re savages One lot ste...  waymar royce        1   \n",
       "1  I’ve never seen wildlings do a thing like this...          will        1   \n",
       "2                             How close did you get?  waymar royce        1   \n",
       "3                             Close as any man would          will        1   \n",
       "4                    We should head back to the wall         gared        1   \n",
       "\n",
       "   N_Season Emision Date  \n",
       "0         1   17/04/2011  \n",
       "1         1   17/04/2011  \n",
       "2         1   17/04/2011  \n",
       "3         1   17/04/2011  \n",
       "4         1   17/04/2011  "
      ]
     },
     "execution_count": 3,
     "metadata": {},
     "output_type": "execute_result"
    }
   ],
   "source": [
    "df=pd.read_csv('got_scripts_breakdown.csv', sep=';')\n",
    "df.head()"
   ]
  },
  {
   "cell_type": "code",
   "execution_count": 4,
   "metadata": {},
   "outputs": [],
   "source": [
    "# Convert to list\n",
    "data = df.Sentence.values.tolist()"
   ]
  },
  {
   "cell_type": "code",
   "execution_count": 5,
   "metadata": {},
   "outputs": [
    {
     "name": "stdout",
     "output_type": "stream",
     "text": [
      "[['what', 'you', 'expect', 'they', 're', 'savages', 'one', 'lot', 'steals', 'goat', 'from', 'another', 'lot', 'and', 'before', 'you', 'know', 'it', 'they', 're', 'ripping', 'each', 'other', 'to', 'pieces']]\n"
     ]
    }
   ],
   "source": [
    "def sent_to_words(sentences):\n",
    "    for sentence in sentences:\n",
    "        yield(gensim.utils.simple_preprocess(str(sentence), deacc=True))  # deacc=True removes punctuations\n",
    "\n",
    "data_words = list(sent_to_words(data))\n",
    "\n",
    "print(data_words[:1])"
   ]
  },
  {
   "cell_type": "code",
   "execution_count": 6,
   "metadata": {},
   "outputs": [
    {
     "name": "stdout",
     "output_type": "stream",
     "text": [
      "['what', 'you', 'expect', 'they', 're', 'savages', 'one', 'lot', 'steals', 'goat', 'from', 'another', 'lot', 'and', 'before', 'you', 'know', 'it', 'they', 're', 'ripping', 'each_other', 'to', 'pieces']\n"
     ]
    }
   ],
   "source": [
    "# Build the bigram and trigram models\n",
    "bigram = gensim.models.Phrases(data_words, min_count=5, threshold=100) # higher threshold fewer phrases.\n",
    "trigram = gensim.models.Phrases(bigram[data_words], threshold=100)  \n",
    "\n",
    "# Faster way to get a sentence clubbed as a trigram/bigram\n",
    "bigram_mod = gensim.models.phrases.Phraser(bigram)\n",
    "trigram_mod = gensim.models.phrases.Phraser(trigram)\n",
    "\n",
    "# See trigram example\n",
    "print(trigram_mod[bigram_mod[data_words[0]]])"
   ]
  },
  {
   "cell_type": "code",
   "execution_count": 7,
   "metadata": {},
   "outputs": [
    {
     "name": "stdout",
     "output_type": "stream",
     "text": [
      "[['expect', 'savage', 'lot', 'steal', 'goat', 'lot', 'know', 'rip', 'piece']]\n"
     ]
    }
   ],
   "source": [
    "# Define functions for stopwords, bigrams, trigrams and lemmatization\n",
    "def remove_stopwords(texts):\n",
    "    return [[word for word in simple_preprocess(str(doc)) if word not in stop_words] for doc in texts]\n",
    "\n",
    "def make_bigrams(texts):\n",
    "    return [bigram_mod[doc] for doc in texts]\n",
    "\n",
    "def make_trigrams(texts):\n",
    "    return [trigram_mod[bigram_mod[doc]] for doc in texts]\n",
    "\n",
    "def lemmatization(texts, allowed_postags=['NOUN', 'ADJ', 'VERB', 'ADV']):\n",
    "    \"\"\"https://spacy.io/api/annotation\"\"\"\n",
    "    texts_out = []\n",
    "    for sent in texts:\n",
    "        doc = nlp(\" \".join(sent)) \n",
    "        texts_out.append([token.lemma_ for token in doc if token.pos_ in allowed_postags])\n",
    "    return texts_out\n",
    "\n",
    "# Remove Stop Words\n",
    "data_words_nostops = remove_stopwords(data_words)\n",
    "\n",
    "# Form Bigrams\n",
    "data_words_bigrams = make_bigrams(data_words_nostops)\n",
    "\n",
    "# Initialize spacy 'en' model, keeping only tagger component (for efficiency)\n",
    "nlp = spacy.load('en', disable=['parser', 'ner'])\n",
    "\n",
    "# Do lemmatization keeping only noun, adj, vb, adv\n",
    "data_lemmatized = lemmatization(data_words_bigrams, allowed_postags=['NOUN', 'ADJ', 'VERB', 'ADV'])\n",
    "\n",
    "print(data_lemmatized[:1])"
   ]
  },
  {
   "cell_type": "code",
   "execution_count": 20,
   "metadata": {},
   "outputs": [
    {
     "name": "stdout",
     "output_type": "stream",
     "text": [
      "Word2Vec(vocab=6995, size=100, alpha=0.025)\n",
      "['expect', 'savage', 'lot', 'steal', 'goat', 'know', 'rip', 'piece', 'never', 'see', 'wildling', 'thing', 'ever', 'life', 'close', 'get', 'man', 'would', 'head', 'back', 'wall', 'dead', 'frighten', 'order', 'track', 'trouble', 'think', 'ask', 'die', 'horse', 'could', 'even', 'kill', 'child', 'good', 'want', 'run', 'away', 'south', 'course', 'behead', 'deserter', 'catch', 'first', 'say', 'seem', 'move', 'camp', 'go', 'father', 'watch', 'mother', 'fine', 'work', 'always', 'well', 'do', 'thank', 'love', 'detail', 'manage', 'corner', 'quite', 'beautiful', 'stitching', 'marksman', 'keep', 'practice', 'bran', 'much', 'relax', 'bow', 'arm', 'jon', 'quick', 'faster', 'lord', 'stark', 'lady', 'guardsman', 'ride', 'hill', 'capture', 'night', 'lad', 'saddle', 'swear', 'oath', 'cat', 'law', 'tell', 'come', 'ne', 'young', 'boy', 'forever', 'winter', 'rest', 'white_walker', 'break']\n",
      "[ 0.00734843 -0.24200232  0.15299107  0.33005202  0.06186654 -0.03045593\n",
      "  0.19028355  0.28035527 -0.03327622  0.22628278  0.00466415 -0.06836212\n",
      "  0.12652466 -0.05005801 -0.04113455  0.18160285  0.21000594  0.19896042\n",
      "  0.16687189 -0.7173681  -0.91982317 -0.11921714 -0.43576723 -0.27541256\n",
      " -0.21879546 -0.17362213  0.57071143  0.15312615  0.353664   -0.11176898\n",
      "  0.4299646   0.12633331 -0.14334291  0.31899196  0.08989481 -0.23197234\n",
      "  0.05953224  0.27518356 -0.02702354  0.1242369   0.25172645  0.07163432\n",
      "  0.4725988   0.3580846   0.07899041  0.03046067 -0.07752749 -0.03995249\n",
      " -0.14989068  0.12171268  0.23599042  0.13239393 -0.38786316 -0.04591988\n",
      " -0.00621701 -0.04904559  0.02342358  0.05393142 -0.05427053 -0.13312317\n",
      "  0.22747713  0.19350973 -0.0403523   0.05038314  0.3509323  -0.01039365\n",
      " -0.04850658 -0.39497477  0.3568626  -0.40776575 -0.40979815 -0.08808321\n",
      "  0.12497847 -0.43616164  0.13260902 -0.1436044  -0.36484224  0.24938528\n",
      " -0.4701043  -0.0967802   0.10368529  0.08756517  0.07350025  0.3174639\n",
      " -0.2633282   0.03272893 -0.41549343 -0.03273432 -0.20002796  0.00864377\n",
      "  0.14891852  0.17552847  0.24530329  0.13453554 -0.4134487  -0.1940562\n",
      "  0.5575255   0.3822814   0.29311964 -0.18784223]\n"
     ]
    },
    {
     "name": "stderr",
     "output_type": "stream",
     "text": [
      "/anaconda3/lib/python3.7/site-packages/ipykernel_launcher.py:9: DeprecationWarning: Call to deprecated `__getitem__` (Method will be removed in 4.0.0, use self.wv.__getitem__() instead).\n",
      "  if __name__ == '__main__':\n"
     ]
    }
   ],
   "source": [
    "# train model\n",
    "model = Word2Vec(data_lemmatized, min_count=1)\n",
    "# summarize the loaded model\n",
    "print(model)\n",
    "# summarize vocabulary\n",
    "words = list(model.wv.vocab)\n",
    "print(words[:100])\n",
    "# access vector for one word\n",
    "print(model['winter'])\n"
   ]
  },
  {
   "cell_type": "code",
   "execution_count": 24,
   "metadata": {},
   "outputs": [
    {
     "name": "stderr",
     "output_type": "stream",
     "text": [
      "/anaconda3/lib/python3.7/site-packages/ipykernel_launcher.py:1: DeprecationWarning: Call to deprecated `__getitem__` (Method will be removed in 4.0.0, use self.wv.__getitem__() instead).\n",
      "  \"\"\"Entry point for launching an IPython kernel.\n"
     ]
    },
    {
     "data": {
      "image/png": "[encoded data removed]",
      "text/plain": [
       "<Figure size 432x288 with 1 Axes>"
      ]
     },
     "metadata": {
      "needs_background": "light"
     },
     "output_type": "display_data"
    }
   ],
   "source": [
    "X = model[model.wv.vocab]\n",
    "pca = PCA(n_components=2)\n",
    "result = pca.fit_transform(X)\n",
    "# create a scatter plot of the projection\n",
    "pyplot.scatter(result[:, 0], result[:, 1])\n",
    "words = list(model.wv.vocab)\n",
    "for i, word in enumerate(words):\n",
    "    pyplot.annotate(word, xy=(result[i, 0], result[i, 1]))\n",
    "pyplot.show()"
   ]
  },
  {
   "cell_type": "code",
   "execution_count": 22,
   "metadata": {},
   "outputs": [
    {
     "data": {
      "text/plain": [
       "[('land', 0.9998863935470581),\n",
       " ('lead', 0.9998822808265686),\n",
       " ('crown', 0.9998804330825806),\n",
       " ('daenery', 0.9998797178268433),\n",
       " ('remain', 0.9998787045478821),\n",
       " ('sell', 0.9998785257339478),\n",
       " ('sit', 0.9998782873153687),\n",
       " ('return', 0.9998771548271179),\n",
       " ('begin', 0.9998769760131836),\n",
       " ('meereen', 0.9998767375946045)]"
      ]
     },
     "execution_count": 22,
     "metadata": {},
     "output_type": "execute_result"
    }
   ],
   "source": [
    "model.wv.most_similar(positive=[\"throne\"])"
   ]
  },
  {
   "cell_type": "code",
   "execution_count": 21,
   "metadata": {},
   "outputs": [
    {
     "data": {
      "text/plain": [
       "[('battle', 0.9998471736907959),\n",
       " ('lose', 0.9998471140861511),\n",
       " ('meet', 0.9998399019241333),\n",
       " ('none', 0.9998396635055542),\n",
       " ('soon', 0.9998396039009094),\n",
       " ('hell', 0.9998393058776855),\n",
       " ('part', 0.9998327493667603),\n",
       " ('start', 0.9998236298561096),\n",
       " ('eat', 0.9998218417167664),\n",
       " ('bit', 0.999820351600647)]"
      ]
     },
     "execution_count": 21,
     "metadata": {},
     "output_type": "execute_result"
    }
   ],
   "source": [
    "model.wv.most_similar(positive=[\"winter\"])"
   ]
  },
  {
   "cell_type": "code",
   "execution_count": 23,
   "metadata": {},
   "outputs": [
    {
     "data": {
      "text/plain": [
       "[('fire', 0.9998174905776978),\n",
       " ('sea', 0.999816358089447),\n",
       " ('read', 0.9998129606246948),\n",
       " ('seven_kingdom', 0.9998122453689575),\n",
       " ('slave', 0.9998117685317993),\n",
       " ('would', 0.9998040199279785),\n",
       " ('khaleesi', 0.9998018145561218),\n",
       " ('live', 0.9997994899749756),\n",
       " ('death', 0.9997990727424622),\n",
       " ('road', 0.9997988939285278)]"
      ]
     },
     "execution_count": 23,
     "metadata": {},
     "output_type": "execute_result"
    }
   ],
   "source": [
    "model.wv.most_similar(positive=[\"dragon\"])"
   ]
  },
  {
   "cell_type": "code",
   "execution_count": 8,
   "metadata": {},
   "outputs": [
    {
     "name": "stdout",
     "output_type": "stream",
     "text": [
      "Word2Vec(vocab=4315, size=100, alpha=0.025)\n",
      "['expect', 'savage', 'lot', 'steal', 'goat', 'know', 'rip', 'piece', 'never', 'see', 'wildling', 'thing', 'ever', 'life', 'close', 'get', 'man', 'would', 'head', 'back', 'wall', 'dead', 'frighten', 'order', 'track', 'trouble', 'think', 'ask', 'die', 'horse', 'could', 'even', 'kill', 'child', 'good', 'want', 'run', 'away', 'south', 'course', 'behead', 'deserter', 'catch', 'first', 'say', 'seem', 'move', 'camp', 'go', 'father', 'watch', 'mother', 'fine', 'work', 'always', 'well', 'do', 'thank', 'love', 'detail', 'manage', 'corner', 'quite', 'beautiful', 'stitching', 'marksman', 'keep', 'practice', 'bran', 'much', 'relax', 'bow', 'arm', 'jon', 'quick', 'faster', 'lord', 'stark', 'lady', 'guardsman', 'ride', 'hill', 'capture', 'night', 'lad', 'saddle', 'swear', 'oath', 'cat', 'law', 'tell', 'come', 'ne', 'young', 'boy', 'forever', 'winter', 'rest', 'white_walker', 'break']\n",
      "[ 1.53644290e-02  6.30152464e-01 -4.37867433e-01  1.29773185e-01\n",
      " -3.49920750e-01 -9.46044251e-02 -1.19206890e-01 -2.38826990e-01\n",
      "  5.07299662e-01  2.58041650e-01 -7.64316097e-02  5.99876642e-01\n",
      " -4.01939481e-01  1.49826612e-02 -3.80208224e-01  1.50850177e-01\n",
      "  1.70360103e-01  1.86469853e-01  1.29542261e-01 -2.13651985e-01\n",
      "  4.12122160e-01 -3.78469765e-01  5.87572098e-01  6.11398339e-01\n",
      "  9.46007222e-02 -6.39809296e-02 -4.82217669e-02 -5.52938521e-01\n",
      " -2.36304596e-01 -4.33422104e-02  4.75037903e-01 -3.40808690e-01\n",
      "  6.27793148e-02 -3.22715133e-01 -2.97437668e-01 -2.76053816e-01\n",
      "  4.80565131e-01 -1.47114381e-01  2.31129676e-01 -1.30777940e-01\n",
      "  4.48481664e-02 -3.03790003e-01  4.67670619e-01 -2.87133098e-01\n",
      " -6.78145662e-02 -2.38390371e-01 -5.56524813e-01 -4.47708458e-01\n",
      "  2.18410119e-01 -4.48907353e-02  1.92270920e-01 -6.94580749e-02\n",
      "  3.23114514e-01  5.23212910e-01  1.41121075e-01 -2.07599805e-04\n",
      " -3.55295777e-01  9.11544800e-01  3.14571202e-01  1.57465115e-02\n",
      "  2.36836374e-01 -1.50435209e-01  2.01147467e-01 -8.38058665e-02\n",
      " -2.74073422e-01  5.96534967e-01 -1.73944131e-01  5.30024827e-01\n",
      " -2.99226381e-02  1.59056574e-01  6.62714392e-02  6.49387836e-02\n",
      " -6.60090864e-01 -5.09198487e-01  2.38888383e-01 -2.79512838e-03\n",
      " -4.93648238e-02  3.40922624e-01  7.71805346e-02  3.73226374e-01\n",
      " -2.30115503e-01 -2.78766811e-01  2.79185027e-01  1.88513510e-02\n",
      " -2.40292490e-01  3.41673702e-01  1.44526064e-01  8.80888999e-02\n",
      " -4.75343354e-02  1.33229166e-01 -2.43615776e-01 -4.33707505e-01\n",
      " -4.81652528e-01 -3.64300638e-01 -1.24760546e-01  2.75886238e-01\n",
      "  5.45369029e-01  4.36567403e-02 -7.47635365e-02  5.59158206e-01]\n"
     ]
    },
    {
     "name": "stderr",
     "output_type": "stream",
     "text": [
      "/anaconda3/lib/python3.7/site-packages/ipykernel_launcher.py:14: DeprecationWarning: Call to deprecated `__getitem__` (Method will be removed in 4.0.0, use self.wv.__getitem__() instead).\n",
      "  \n"
     ]
    }
   ],
   "source": [
    "# train model\n",
    "model1 = gensim.models.Word2Vec(\n",
    "        data_lemmatized,\n",
    "        window=10,\n",
    "        min_count=2,\n",
    "        workers=10,\n",
    "        iter=10)\n",
    "# summarize the loaded model\n",
    "print(model1)\n",
    "# summarize vocabulary\n",
    "words1 = list(model1.wv.vocab)\n",
    "print(words1[:100])\n",
    "# access vector for one word\n",
    "print(model1['winter'])"
   ]
  },
  {
   "cell_type": "code",
   "execution_count": 10,
   "metadata": {},
   "outputs": [
    {
     "name": "stderr",
     "output_type": "stream",
     "text": [
      "/anaconda3/lib/python3.7/site-packages/ipykernel_launcher.py:1: DeprecationWarning: Call to deprecated `__getitem__` (Method will be removed in 4.0.0, use self.wv.__getitem__() instead).\n",
      "  \"\"\"Entry point for launching an IPython kernel.\n"
     ]
    },
    {
     "data": {
      "image/png": "[encoded data removed]",
      "text/plain": [
       "<Figure size 432x288 with 1 Axes>"
      ]
     },
     "metadata": {
      "needs_background": "light"
     },
     "output_type": "display_data"
    }
   ],
   "source": [
    "Y = model1[model1.wv.vocab]\n",
    "pca = PCA(n_components=2)\n",
    "result = pca.fit_transform(Y)\n",
    "# create a scatter plot of the projection\n",
    "pyplot.scatter(result[:, 0], result[:, 1])\n",
    "words1 = list(model1.wv.vocab)\n",
    "for i, word in enumerate(words1):\n",
    "    pyplot.annotate(word, xy=(result[i, 0], result[i, 1]))\n",
    "pyplot.show()"
   ]
  },
  {
   "cell_type": "code",
   "execution_count": 12,
   "metadata": {},
   "outputs": [
    {
     "data": {
      "text/plain": [
       "[('rebel', 0.9957916736602783),\n",
       " ('law', 0.995222270488739),\n",
       " ('balon_greyjoy', 0.9951467514038086),\n",
       " ('renly', 0.9950258731842041),\n",
       " ('false', 0.9950079321861267),\n",
       " ('champion', 0.9946164488792419),\n",
       " ('obey', 0.9944837689399719),\n",
       " ('choose', 0.9941576719284058),\n",
       " ('conspire', 0.9941402673721313),\n",
       " ('testimony', 0.9940516948699951)]"
      ]
     },
     "execution_count": 12,
     "metadata": {},
     "output_type": "execute_result"
    }
   ],
   "source": [
    "model1.wv.most_similar(positive=[\"throne\"])"
   ]
  },
  {
   "cell_type": "code",
   "execution_count": 13,
   "metadata": {},
   "outputs": [
    {
     "data": {
      "text/plain": [
       "[('together', 0.9910001754760742),\n",
       " ('mile', 0.9895895719528198),\n",
       " ('farther', 0.9890211820602417),\n",
       " ('castle_black', 0.9843999147415161),\n",
       " ('folk', 0.9842706918716431),\n",
       " ('white_walker', 0.9833152294158936),\n",
       " ('tunnel', 0.9832075834274292),\n",
       " ('reinforce', 0.9831170439720154),\n",
       " ('ramsay_bolton', 0.9824975728988647),\n",
       " ('breach', 0.9822198152542114)]"
      ]
     },
     "execution_count": 13,
     "metadata": {},
     "output_type": "execute_result"
    }
   ],
   "source": [
    "model1.wv.most_similar(positive=[\"winter\"])"
   ]
  },
  {
   "cell_type": "code",
   "execution_count": 14,
   "metadata": {},
   "outputs": [
    {
     "data": {
      "text/plain": [
       "[('breaker', 0.9681887030601501),\n",
       " ('grass', 0.9524262547492981),\n",
       " ('ala', 0.9518758058547974),\n",
       " ('valyria', 0.9513086676597595),\n",
       " ('rhoynar', 0.9467923641204834),\n",
       " ('daenerys_stormborn', 0.9460152983665466),\n",
       " ('dynasty', 0.9458006620407104),\n",
       " ('chain', 0.9452958703041077),\n",
       " ('unburnt', 0.9430876970291138),\n",
       " ('khaleesi', 0.9423307776451111)]"
      ]
     },
     "execution_count": 14,
     "metadata": {},
     "output_type": "execute_result"
    }
   ],
   "source": [
    "model1.wv.most_similar(positive=[\"dragon\"])"
   ]
  },
  {
   "cell_type": "code",
   "execution_count": null,
   "metadata": {},
   "outputs": [],
   "source": []
  }
 ],
 "metadata": {
  "kernelspec": {
   "display_name": "Python 3",
   "language": "python",
   "name": "python3"
  },
  "language_info": {
   "codemirror_mode": {
    "name": "ipython",
    "version": 3
   },
   "file_extension": ".py",
   "mimetype": "text/x-python",
   "name": "python",
   "nbconvert_exporter": "python",
   "pygments_lexer": "ipython3",
   "version": "3.7.3"
  }
 },
 "nbformat": 4,
 "nbformat_minor": 2
}
