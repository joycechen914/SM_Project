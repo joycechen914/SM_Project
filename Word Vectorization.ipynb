{
 "cells": [
  {
   "cell_type": "code",
   "execution_count": 1,
   "metadata": {},
   "outputs": [],
   "source": [
    "import re\n",
    "import numpy as np\n",
    "import pandas as pd\n",
    "from pprint import pprint\n",
    "import gensim\n",
    "import gensim.corpora as corpora\n",
    "from gensim.utils import simple_preprocess\n",
    "from gensim.models import Word2Vec\n",
    "import spacy\n",
    "from sklearn.decomposition import PCA\n",
    "from matplotlib import pyplot"
   ]
  },
  {
   "cell_type": "code",
   "execution_count": 2,
   "metadata": {},
   "outputs": [],
   "source": [
    "# NLTK Stop words\n",
    "from nltk.corpus import stopwords\n",
    "stop_words = stopwords.words('english')\n",
    "stop_words.extend(['from', 'subject', 're', 'edu', 'use'])"
   ]
  },
  {
   "cell_type": "code",
   "execution_count": 3,
   "metadata": {},
   "outputs": [
    {
     "data": {
      "text/html": [
       "<div>\n",
       "<style scoped>\n",
       "    .dataframe tbody tr th:only-of-type {\n",
       "        vertical-align: middle;\n",
       "    }\n",
       "\n",
       "    .dataframe tbody tr th {\n",
       "        vertical-align: top;\n",
       "    }\n",
       "\n",
       "    .dataframe thead th {\n",
       "        text-align: right;\n",
       "    }\n",
       "</style>\n",
       "<table border=\"1\" class=\"dataframe\">\n",
       "  <thead>\n",
       "    <tr style=\"text-align: right;\">\n",
       "      <th></th>\n",
       "      <th>Column1</th>\n",
       "      <th>Season</th>\n",
       "      <th>Episode</th>\n",
       "      <th>Sentence</th>\n",
       "      <th>Name</th>\n",
       "      <th>N_serie</th>\n",
       "      <th>N_Season</th>\n",
       "      <th>Emision Date</th>\n",
       "    </tr>\n",
       "  </thead>\n",
       "  <tbody>\n",
       "    <tr>\n",
       "      <th>0</th>\n",
       "      <td>1</td>\n",
       "      <td>Season 1</td>\n",
       "      <td>winter is coming</td>\n",
       "      <td>What d’you expect? They’re savages One lot ste...</td>\n",
       "      <td>waymar royce</td>\n",
       "      <td>1</td>\n",
       "      <td>1</td>\n",
       "      <td>17/04/2011</td>\n",
       "    </tr>\n",
       "    <tr>\n",
       "      <th>1</th>\n",
       "      <td>2</td>\n",
       "      <td>Season 1</td>\n",
       "      <td>winter is coming</td>\n",
       "      <td>I’ve never seen wildlings do a thing like this...</td>\n",
       "      <td>will</td>\n",
       "      <td>1</td>\n",
       "      <td>1</td>\n",
       "      <td>17/04/2011</td>\n",
       "    </tr>\n",
       "    <tr>\n",
       "      <th>2</th>\n",
       "      <td>3</td>\n",
       "      <td>Season 1</td>\n",
       "      <td>winter is coming</td>\n",
       "      <td>How close did you get?</td>\n",
       "      <td>waymar royce</td>\n",
       "      <td>1</td>\n",
       "      <td>1</td>\n",
       "      <td>17/04/2011</td>\n",
       "    </tr>\n",
       "    <tr>\n",
       "      <th>3</th>\n",
       "      <td>4</td>\n",
       "      <td>Season 1</td>\n",
       "      <td>winter is coming</td>\n",
       "      <td>Close as any man would</td>\n",
       "      <td>will</td>\n",
       "      <td>1</td>\n",
       "      <td>1</td>\n",
       "      <td>17/04/2011</td>\n",
       "    </tr>\n",
       "    <tr>\n",
       "      <th>4</th>\n",
       "      <td>5</td>\n",
       "      <td>Season 1</td>\n",
       "      <td>winter is coming</td>\n",
       "      <td>We should head back to the wall</td>\n",
       "      <td>gared</td>\n",
       "      <td>1</td>\n",
       "      <td>1</td>\n",
       "      <td>17/04/2011</td>\n",
       "    </tr>\n",
       "  </tbody>\n",
       "</table>\n",
       "</div>"
      ],
      "text/plain": [
       "   Column1    Season           Episode  \\\n",
       "0        1  Season 1  winter is coming   \n",
       "1        2  Season 1  winter is coming   \n",
       "2        3  Season 1  winter is coming   \n",
       "3        4  Season 1  winter is coming   \n",
       "4        5  Season 1  winter is coming   \n",
       "\n",
       "                                            Sentence          Name  N_serie  \\\n",
       "0  What d’you expect? They’re savages One lot ste...  waymar royce        1   \n",
       "1  I’ve never seen wildlings do a thing like this...          will        1   \n",
       "2                             How close did you get?  waymar royce        1   \n",
       "3                             Close as any man would          will        1   \n",
       "4                    We should head back to the wall         gared        1   \n",
       "\n",
       "   N_Season Emision Date  \n",
       "0         1   17/04/2011  \n",
       "1         1   17/04/2011  \n",
       "2         1   17/04/2011  \n",
       "3         1   17/04/2011  \n",
       "4         1   17/04/2011  "
      ]
     },
     "execution_count": 3,
     "metadata": {},
     "output_type": "execute_result"
    }
   ],
   "source": [
    "df=pd.read_csv('got_scripts_breakdown.csv', sep=';')\n",
    "df.head()"
   ]
  },
  {
   "cell_type": "code",
   "execution_count": 4,
   "metadata": {},
   "outputs": [],
   "source": [
    "# Convert to list\n",
    "data = df.Sentence.values.tolist()"
   ]
  },
  {
   "cell_type": "code",
   "execution_count": 5,
   "metadata": {},
   "outputs": [
    {
     "name": "stdout",
     "output_type": "stream",
     "text": [
      "[['what', 'you', 'expect', 'they', 're', 'savages', 'one', 'lot', 'steals', 'goat', 'from', 'another', 'lot', 'and', 'before', 'you', 'know', 'it', 'they', 're', 'ripping', 'each', 'other', 'to', 'pieces']]\n"
     ]
    }
   ],
   "source": [
    "def sent_to_words(sentences):\n",
    "    for sentence in sentences:\n",
    "        yield(gensim.utils.simple_preprocess(str(sentence), deacc=True))  # deacc=True removes punctuations\n",
    "\n",
    "data_words = list(sent_to_words(data))\n",
    "\n",
    "print(data_words[:1])"
   ]
  },
  {
   "cell_type": "code",
   "execution_count": 6,
   "metadata": {},
   "outputs": [
    {
     "name": "stdout",
     "output_type": "stream",
     "text": [
      "['what', 'you', 'expect', 'they', 're', 'savages', 'one', 'lot', 'steals', 'goat', 'from', 'another', 'lot', 'and', 'before', 'you', 'know', 'it', 'they', 're', 'ripping', 'each_other', 'to', 'pieces']\n"
     ]
    }
   ],
   "source": [
    "# Build the bigram and trigram models\n",
    "bigram = gensim.models.Phrases(data_words, min_count=5, threshold=100) # higher threshold fewer phrases.\n",
    "trigram = gensim.models.Phrases(bigram[data_words], threshold=100)  \n",
    "\n",
    "# Faster way to get a sentence clubbed as a trigram/bigram\n",
    "bigram_mod = gensim.models.phrases.Phraser(bigram)\n",
    "trigram_mod = gensim.models.phrases.Phraser(trigram)\n",
    "\n",
    "# See trigram example\n",
    "print(trigram_mod[bigram_mod[data_words[0]]])"
   ]
  },
  {
   "cell_type": "code",
   "execution_count": 7,
   "metadata": {},
   "outputs": [
    {
     "name": "stdout",
     "output_type": "stream",
     "text": [
      "[['expect', 'savage', 'lot', 'steal', 'goat', 'lot', 'know', 'rip', 'piece']]\n"
     ]
    }
   ],
   "source": [
    "# Define functions for stopwords, bigrams, trigrams and lemmatization\n",
    "def remove_stopwords(texts):\n",
    "    return [[word for word in simple_preprocess(str(doc)) if word not in stop_words] for doc in texts]\n",
    "\n",
    "def make_bigrams(texts):\n",
    "    return [bigram_mod[doc] for doc in texts]\n",
    "\n",
    "def make_trigrams(texts):\n",
    "    return [trigram_mod[bigram_mod[doc]] for doc in texts]\n",
    "\n",
    "def lemmatization(texts, allowed_postags=['NOUN', 'ADJ', 'VERB', 'ADV']):\n",
    "    \"\"\"https://spacy.io/api/annotation\"\"\"\n",
    "    texts_out = []\n",
    "    for sent in texts:\n",
    "        doc = nlp(\" \".join(sent)) \n",
    "        texts_out.append([token.lemma_ for token in doc if token.pos_ in allowed_postags])\n",
    "    return texts_out\n",
    "\n",
    "# Remove Stop Words\n",
    "data_words_nostops = remove_stopwords(data_words)\n",
    "\n",
    "# Form Bigrams\n",
    "data_words_bigrams = make_bigrams(data_words_nostops)\n",
    "\n",
    "# Initialize spacy 'en' model, keeping only tagger component (for efficiency)\n",
    "nlp = spacy.load('en', disable=['parser', 'ner'])\n",
    "\n",
    "# Do lemmatization keeping only noun, adj, vb, adv\n",
    "data_lemmatized = lemmatization(data_words_bigrams, allowed_postags=['NOUN', 'ADJ', 'VERB', 'ADV'])\n",
    "\n",
    "print(data_lemmatized[:1])"
   ]
  },
  {
   "cell_type": "code",
   "execution_count": 20,
   "metadata": {},
   "outputs": [
    {
     "name": "stdout",
     "output_type": "stream",
     "text": [
      "Word2Vec(vocab=6995, size=100, alpha=0.025)\n",
      "['expect', 'savage', 'lot', 'steal', 'goat', 'know', 'rip', 'piece', 'never', 'see', 'wildling', 'thing', 'ever', 'life', 'close', 'get', 'man', 'would', 'head', 'back', 'wall', 'dead', 'frighten', 'order', 'track', 'trouble', 'think', 'ask', 'die', 'horse', 'could', 'even', 'kill', 'child', 'good', 'want', 'run', 'away', 'south', 'course', 'behead', 'deserter', 'catch', 'first', 'say', 'seem', 'move', 'camp', 'go', 'father', 'watch', 'mother', 'fine', 'work', 'always', 'well', 'do', 'thank', 'love', 'detail', 'manage', 'corner', 'quite', 'beautiful', 'stitching', 'marksman', 'keep', 'practice', 'bran', 'much', 'relax', 'bow', 'arm', 'jon', 'quick', 'faster', 'lord', 'stark', 'lady', 'guardsman', 'ride', 'hill', 'capture', 'night', 'lad', 'saddle', 'swear', 'oath', 'cat', 'law', 'tell', 'come', 'ne', 'young', 'boy', 'forever', 'winter', 'rest', 'white_walker', 'break']\n",
      "[ 0.00734843 -0.24200232  0.15299107  0.33005202  0.06186654 -0.03045593\n",
      "  0.19028355  0.28035527 -0.03327622  0.22628278  0.00466415 -0.06836212\n",
      "  0.12652466 -0.05005801 -0.04113455  0.18160285  0.21000594  0.19896042\n",
      "  0.16687189 -0.7173681  -0.91982317 -0.11921714 -0.43576723 -0.27541256\n",
      " -0.21879546 -0.17362213  0.57071143  0.15312615  0.353664   -0.11176898\n",
      "  0.4299646   0.12633331 -0.14334291  0.31899196  0.08989481 -0.23197234\n",
      "  0.05953224  0.27518356 -0.02702354  0.1242369   0.25172645  0.07163432\n",
      "  0.4725988   0.3580846   0.07899041  0.03046067 -0.07752749 -0.03995249\n",
      " -0.14989068  0.12171268  0.23599042  0.13239393 -0.38786316 -0.04591988\n",
      " -0.00621701 -0.04904559  0.02342358  0.05393142 -0.05427053 -0.13312317\n",
      "  0.22747713  0.19350973 -0.0403523   0.05038314  0.3509323  -0.01039365\n",
      " -0.04850658 -0.39497477  0.3568626  -0.40776575 -0.40979815 -0.08808321\n",
      "  0.12497847 -0.43616164  0.13260902 -0.1436044  -0.36484224  0.24938528\n",
      " -0.4701043  -0.0967802   0.10368529  0.08756517  0.07350025  0.3174639\n",
      " -0.2633282   0.03272893 -0.41549343 -0.03273432 -0.20002796  0.00864377\n",
      "  0.14891852  0.17552847  0.24530329  0.13453554 -0.4134487  -0.1940562\n",
      "  0.5575255   0.3822814   0.29311964 -0.18784223]\n"
     ]
    },
    {
     "name": "stderr",
     "output_type": "stream",
     "text": [
      "/anaconda3/lib/python3.7/site-packages/ipykernel_launcher.py:9: DeprecationWarning: Call to deprecated `__getitem__` (Method will be removed in 4.0.0, use self.wv.__getitem__() instead).\n",
      "  if __name__ == '__main__':\n"
     ]
    }
   ],
   "source": [
    "# train model\n",
    "model = Word2Vec(data_lemmatized, min_count=1)\n",
    "# summarize the loaded model\n",
    "print(model)\n",
    "# summarize vocabulary\n",
    "words = list(model.wv.vocab)\n",
    "print(words[:100])\n",
    "# access vector for one word\n",
    "print(model['winter'])\n"
   ]
  },
  {
   "cell_type": "code",
   "execution_count": 24,
   "metadata": {},
   "outputs": [
    {
     "name": "stderr",
     "output_type": "stream",
     "text": [
      "/anaconda3/lib/python3.7/site-packages/ipykernel_launcher.py:1: DeprecationWarning: Call to deprecated `__getitem__` (Method will be removed in 4.0.0, use self.wv.__getitem__() instead).\n",
      "  \"\"\"Entry point for launching an IPython kernel.\n"
     ]
    },
    {
     "data": {
      "image/png": "[encoded data removed]",
      "text/plain": [
       "<Figure size 432x288 with 1 Axes>"
      ]
     },
     "metadata": {
      "needs_background": "light"
     },
     "output_type": "display_data"
    }
   ],
   "source": [
    "X = model[model.wv.vocab]\n",
    "pca = PCA(n_components=2)\n",
    "result = pca.fit_transform(X)\n",
    "# create a scatter plot of the projection\n",
    "pyplot.scatter(result[:, 0], result[:, 1])\n",
    "words = list(model.wv.vocab)\n",
    "for i, word in enumerate(words):\n",
    "    pyplot.annotate(word, xy=(result[i, 0], result[i, 1]))\n",
    "pyplot.show()"
   ]
  },
  {
   "cell_type": "code",
   "execution_count": 22,
   "metadata": {},
   "outputs": [
    {
     "data": {
      "text/plain": [
       "[('land', 0.9998863935470581),\n",
       " ('lead', 0.9998822808265686),\n",
       " ('crown', 0.9998804330825806),\n",
       " ('daenery', 0.9998797178268433),\n",
       " ('remain', 0.9998787045478821),\n",
       " ('sell', 0.9998785257339478),\n",
       " ('sit', 0.9998782873153687),\n",
       " ('return', 0.9998771548271179),\n",
       " ('begin', 0.9998769760131836),\n",
       " ('meereen', 0.9998767375946045)]"
      ]
     },
     "execution_count": 22,
     "metadata": {},
     "output_type": "execute_result"
    }
   ],
   "source": [
    "model.wv.most_similar(positive=[\"throne\"])"
   ]
  },
  {
   "cell_type": "code",
   "execution_count": 21,
   "metadata": {},
   "outputs": [
    {
     "data": {
      "text/plain": [
       "[('battle', 0.9998471736907959),\n",
       " ('lose', 0.9998471140861511),\n",
       " ('meet', 0.9998399019241333),\n",
       " ('none', 0.9998396635055542),\n",
       " ('soon', 0.9998396039009094),\n",
       " ('hell', 0.9998393058776855),\n",
       " ('part', 0.9998327493667603),\n",
       " ('start', 0.9998236298561096),\n",
       " ('eat', 0.9998218417167664),\n",
       " ('bit', 0.999820351600647)]"
      ]
     },
     "execution_count": 21,
     "metadata": {},
     "output_type": "execute_result"
    }
   ],
   "source": [
    "model.wv.most_similar(positive=[\"winter\"])"
   ]
  },
  {
   "cell_type": "code",
   "execution_count": 23,
   "metadata": {},
   "outputs": [
    {
     "data": {
      "text/plain": [
       "[('fire', 0.9998174905776978),\n",
       " ('sea', 0.999816358089447),\n",
       " ('read', 0.9998129606246948),\n",
       " ('seven_kingdom', 0.9998122453689575),\n",
       " ('slave', 0.9998117685317993),\n",
       " ('would', 0.9998040199279785),\n",
       " ('khaleesi', 0.9998018145561218),\n",
       " ('live', 0.9997994899749756),\n",
       " ('death', 0.9997990727424622),\n",
       " ('road', 0.9997988939285278)]"
      ]
     },
     "execution_count": 23,
     "metadata": {},
     "output_type": "execute_result"
    }
   ],
   "source": [
    "model.wv.most_similar(positive=[\"dragon\"])"
   ]
  },
  {
   "cell_type": "code",
   "execution_count": 26,
   "metadata": {},
   "outputs": [
    {
     "name": "stdout",
     "output_type": "stream",
     "text": [
      "Word2Vec(vocab=4315, size=100, alpha=0.025)\n",
      "['expect', 'savage', 'lot', 'steal', 'goat', 'know', 'rip', 'piece', 'never', 'see', 'wildling', 'thing', 'ever', 'life', 'close', 'get', 'man', 'would', 'head', 'back', 'wall', 'dead', 'frighten', 'order', 'track', 'trouble', 'think', 'ask', 'die', 'horse', 'could', 'even', 'kill', 'child', 'good', 'want', 'run', 'away', 'south', 'course', 'behead', 'deserter', 'catch', 'first', 'say', 'seem', 'move', 'camp', 'go', 'father', 'watch', 'mother', 'fine', 'work', 'always', 'well', 'do', 'thank', 'love', 'detail', 'manage', 'corner', 'quite', 'beautiful', 'stitching', 'marksman', 'keep', 'practice', 'bran', 'much', 'relax', 'bow', 'arm', 'jon', 'quick', 'faster', 'lord', 'stark', 'lady', 'guardsman', 'ride', 'hill', 'capture', 'night', 'lad', 'saddle', 'swear', 'oath', 'cat', 'law', 'tell', 'come', 'ne', 'young', 'boy', 'forever', 'winter', 'rest', 'white_walker', 'break']\n",
      "[ 0.08470815 -0.18897067  0.30783844  0.20376606 -0.02378869 -0.01981919\n",
      "  0.13790776  0.15485744 -0.03836113  0.2270339   0.06227481 -0.2159502\n",
      "  0.23835272 -0.02911807  0.07829782 -0.04532415  0.38608348  0.15308303\n",
      "  0.15908876 -0.8519423  -0.90043014  0.02155512 -0.48684326 -0.35025364\n",
      " -0.2006773  -0.04715872  0.3717819  -0.01078365  0.27713624 -0.09195729\n",
      "  0.2735393   0.1416328  -0.07711997  0.29441875  0.02916982 -0.16839856\n",
      " -0.00755966  0.15450747 -0.1638242   0.20949575  0.3232954   0.26473814\n",
      "  0.44389644  0.4826487   0.03302907 -0.02974329 -0.13533439 -0.02439839\n",
      " -0.42275342 -0.06907263  0.25813717  0.17904186 -0.14269318 -0.05677486\n",
      " -0.1872197  -0.11577272 -0.20200509  0.14852786 -0.16377966 -0.17183754\n",
      " -0.04809414  0.33720565  0.03202506  0.1043231   0.5733079   0.06407038\n",
      " -0.32614332 -0.77415717  0.5602626  -0.70525074 -0.6855102  -0.08066162\n",
      "  0.27035633 -0.5177934   0.00640867 -0.12181801 -0.40542924  0.3155036\n",
      " -0.42852288  0.04706434  0.26723403 -0.10976362  0.05055675  0.4369533\n",
      " -0.5829494  -0.04584548 -0.64234614  0.02397296 -0.27099434  0.19166194\n",
      "  0.14198302  0.30036303  0.20994627  0.0755128  -0.7182482  -0.20853028\n",
      "  0.47695634  0.60193175  0.30874997 -0.31186917]\n"
     ]
    },
    {
     "name": "stderr",
     "output_type": "stream",
     "text": [
      "/anaconda3/lib/python3.7/site-packages/ipykernel_launcher.py:14: DeprecationWarning: Call to deprecated `__getitem__` (Method will be removed in 4.0.0, use self.wv.__getitem__() instead).\n",
      "  \n"
     ]
    }
   ],
   "source": [
    "# train model\n",
    "model1 = gensim.models.Word2Vec(\n",
    "        data_lemmatized,\n",
    "        window=10,\n",
    "        min_count=2,\n",
    "        workers=10,\n",
    "        iter=10)\n",
    "# summarize the loaded model\n",
    "print(model1)\n",
    "# summarize vocabulary\n",
    "words1 = list(model1.wv.vocab)\n",
    "print(words1[:100])\n",
    "# access vector for one word\n",
    "print(model1['winter'])"
   ]
  },
  {
   "cell_type": "code",
   "execution_count": null,
   "metadata": {},
   "outputs": [],
   "source": [
    "Y = model1[model1.wv.vocab]\n",
    "pca = PCA(n_components=2)\n",
    "result = pca.fit_transform(X)\n",
    "# create a scatter plot of the projection\n",
    "pyplot.scatter(result[:, 0], result[:, 1])\n",
    "words = list(model.wv.vocab)\n",
    "for i, word in enumerate(words):\n",
    "    pyplot.annotate(word, xy=(result[i, 0], result[i, 1]))\n",
    "pyplot.show()"
   ]
  }
 ],
 "metadata": {
  "kernelspec": {
   "display_name": "Python 3",
   "language": "python",
   "name": "python3"
  },
  "language_info": {
   "codemirror_mode": {
    "name": "ipython",
    "version": 3
   },
   "file_extension": ".py",
   "mimetype": "text/x-python",
   "name": "python",
   "nbconvert_exporter": "python",
   "pygments_lexer": "ipython3",
   "version": "3.7.3"
  }
 },
 "nbformat": 4,
 "nbformat_minor": 2
}
