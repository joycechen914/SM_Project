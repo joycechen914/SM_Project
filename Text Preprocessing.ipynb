{
 "cells": [
  {
   "cell_type": "code",
   "execution_count": 28,
   "metadata": {},
   "outputs": [],
   "source": [
    "import pandas as pd\n",
    "import numpy as np\n",
    "import nltk\n",
    "import os\n",
    "import matplotlib as mpl\n",
    "import matplotlib.pyplot as plt\n",
    "import re, string, unicodedata\n",
    "import nltk\n",
    "import contractions\n",
    "import inflect\n",
    "from nltk import word_tokenize, sent_tokenize\n",
    "from nltk.corpus import stopwords\n",
    "from nltk.stem import LancasterStemmer, WordNetLemmatizer\n",
    "import gensim\n",
    "from gensim.utils import simple_preprocess\n",
    "from gensim.parsing.preprocessing import STOPWORDS\n",
    "from nltk.stem.porter import *"
   ]
  },
  {
   "cell_type": "code",
   "execution_count": 2,
   "metadata": {},
   "outputs": [
    {
     "data": {
      "text/html": [
       "<div>\n",
       "<style scoped>\n",
       "    .dataframe tbody tr th:only-of-type {\n",
       "        vertical-align: middle;\n",
       "    }\n",
       "\n",
       "    .dataframe tbody tr th {\n",
       "        vertical-align: top;\n",
       "    }\n",
       "\n",
       "    .dataframe thead th {\n",
       "        text-align: right;\n",
       "    }\n",
       "</style>\n",
       "<table border=\"1\" class=\"dataframe\">\n",
       "  <thead>\n",
       "    <tr style=\"text-align: right;\">\n",
       "      <th></th>\n",
       "      <th>Column1</th>\n",
       "      <th>Season</th>\n",
       "      <th>Episode</th>\n",
       "      <th>Sentence</th>\n",
       "      <th>Name</th>\n",
       "      <th>N_serie</th>\n",
       "      <th>N_Season</th>\n",
       "      <th>Emision Date</th>\n",
       "    </tr>\n",
       "  </thead>\n",
       "  <tbody>\n",
       "    <tr>\n",
       "      <th>0</th>\n",
       "      <td>1</td>\n",
       "      <td>Season 1</td>\n",
       "      <td>winter is coming</td>\n",
       "      <td>What d’you expect? They’re savages One lot ste...</td>\n",
       "      <td>waymar royce</td>\n",
       "      <td>1</td>\n",
       "      <td>1</td>\n",
       "      <td>17/04/2011</td>\n",
       "    </tr>\n",
       "    <tr>\n",
       "      <th>1</th>\n",
       "      <td>2</td>\n",
       "      <td>Season 1</td>\n",
       "      <td>winter is coming</td>\n",
       "      <td>I’ve never seen wildlings do a thing like this...</td>\n",
       "      <td>will</td>\n",
       "      <td>1</td>\n",
       "      <td>1</td>\n",
       "      <td>17/04/2011</td>\n",
       "    </tr>\n",
       "    <tr>\n",
       "      <th>2</th>\n",
       "      <td>3</td>\n",
       "      <td>Season 1</td>\n",
       "      <td>winter is coming</td>\n",
       "      <td>How close did you get?</td>\n",
       "      <td>waymar royce</td>\n",
       "      <td>1</td>\n",
       "      <td>1</td>\n",
       "      <td>17/04/2011</td>\n",
       "    </tr>\n",
       "    <tr>\n",
       "      <th>3</th>\n",
       "      <td>4</td>\n",
       "      <td>Season 1</td>\n",
       "      <td>winter is coming</td>\n",
       "      <td>Close as any man would</td>\n",
       "      <td>will</td>\n",
       "      <td>1</td>\n",
       "      <td>1</td>\n",
       "      <td>17/04/2011</td>\n",
       "    </tr>\n",
       "    <tr>\n",
       "      <th>4</th>\n",
       "      <td>5</td>\n",
       "      <td>Season 1</td>\n",
       "      <td>winter is coming</td>\n",
       "      <td>We should head back to the wall</td>\n",
       "      <td>gared</td>\n",
       "      <td>1</td>\n",
       "      <td>1</td>\n",
       "      <td>17/04/2011</td>\n",
       "    </tr>\n",
       "  </tbody>\n",
       "</table>\n",
       "</div>"
      ],
      "text/plain": [
       "   Column1    Season           Episode  \\\n",
       "0        1  Season 1  winter is coming   \n",
       "1        2  Season 1  winter is coming   \n",
       "2        3  Season 1  winter is coming   \n",
       "3        4  Season 1  winter is coming   \n",
       "4        5  Season 1  winter is coming   \n",
       "\n",
       "                                            Sentence          Name  N_serie  \\\n",
       "0  What d’you expect? They’re savages One lot ste...  waymar royce        1   \n",
       "1  I’ve never seen wildlings do a thing like this...          will        1   \n",
       "2                             How close did you get?  waymar royce        1   \n",
       "3                             Close as any man would          will        1   \n",
       "4                    We should head back to the wall         gared        1   \n",
       "\n",
       "   N_Season Emision Date  \n",
       "0         1   17/04/2011  \n",
       "1         1   17/04/2011  \n",
       "2         1   17/04/2011  \n",
       "3         1   17/04/2011  \n",
       "4         1   17/04/2011  "
      ]
     },
     "execution_count": 2,
     "metadata": {},
     "output_type": "execute_result"
    }
   ],
   "source": [
    "df=pd.read_csv('got_scripts_breakdown.csv', sep=';')\n",
    "df.head()"
   ]
  },
  {
   "cell_type": "code",
   "execution_count": 19,
   "metadata": {},
   "outputs": [
    {
     "name": "stdout",
     "output_type": "stream",
     "text": [
      "22510\n",
      "   index                                           Sentence\n",
      "0      0  What d’you expect? They’re savages One lot ste...\n",
      "1      1  I’ve never seen wildlings do a thing like this...\n",
      "2      2                             How close did you get?\n",
      "3      3                             Close as any man would\n",
      "4      4                    We should head back to the wall\n"
     ]
    }
   ],
   "source": [
    "lines = df[[\"Sentence\"]]\n",
    "lines.reset_index(level=0, inplace=True)\n",
    "documents = lines\n",
    "#lines = ' '.join(lines)\n",
    "\n",
    "print(len(documents))\n",
    "print(documents[:5])"
   ]
  },
  {
   "cell_type": "code",
   "execution_count": 56,
   "metadata": {},
   "outputs": [],
   "source": [
    "def lemmatize_stemming(text):\n",
    "    ps = nltk.porter.PorterStemmer()\n",
    "    text = ' '.join([ps.stem(word) for word in text.split()])\n",
    "    return WordNetLemmatizer().lemmatize(text, pos='v')\n",
    "\n",
    "def preprocess(text):\n",
    "    result = []\n",
    "    for token in gensim.utils.simple_preprocess(text):\n",
    "        if token not in gensim.parsing.preprocessing.STOPWORDS:\n",
    "            result.append(lemmatize_stemming(token))\n",
    "    return result"
   ]
  },
  {
   "cell_type": "code",
   "execution_count": 57,
   "metadata": {},
   "outputs": [
    {
     "name": "stdout",
     "output_type": "stream",
     "text": [
      "original document: \n",
      "['Come', 'back', 'here!', 'Help', 'us,', 'boy!', 'A', 'man', 'can', 'fight!', 'Free', 'us']\n",
      "\n",
      "\n",
      " tokenized and lemmatized document: \n",
      "['come', 'help', 'boy', 'man', 'fight', 'free']\n"
     ]
    }
   ],
   "source": [
    "doc_sample = documents[documents['index'] == 4314].values[0][1]\n",
    "print('original document: ')\n",
    "words = []\n",
    "for word in doc_sample.split(' '):\n",
    "    words.append(word)\n",
    "print(words)\n",
    "print('\\n\\n tokenized and lemmatized document: ')\n",
    "print(preprocess(doc_sample))\n",
    "    "
   ]
  },
  {
   "cell_type": "code",
   "execution_count": 59,
   "metadata": {},
   "outputs": [
    {
     "data": {
      "text/plain": [
       "0    [expect, savag, lot, steal, goat, lot, know, r...\n",
       "1    [ve, see, wildl, thing, like, ve, see, thing, ...\n",
       "2                                              [close]\n",
       "3                                         [close, man]\n",
       "4                                         [head, wall]\n",
       "5                                     [dead, frighten]\n",
       "6            [order, track, wildl, track, win, troubl]\n",
       "7                          [think, ll, ask, die, hors]\n",
       "8                                     [kill, children]\n",
       "9    [good, thing, children, want, run, away, south...\n",
       "Name: Sentence, dtype: object"
      ]
     },
     "execution_count": 59,
     "metadata": {},
     "output_type": "execute_result"
    }
   ],
   "source": [
    "processed_docs = documents['Sentence'].map(preprocess)\n",
    "processed_docs[:10]"
   ]
  },
  {
   "cell_type": "code",
   "execution_count": 60,
   "metadata": {},
   "outputs": [
    {
     "name": "stdout",
     "output_type": "stream",
     "text": [
      "0 expect\n",
      "1 goat\n",
      "2 know\n",
      "3 lot\n",
      "4 piec\n",
      "5 rip\n",
      "6 savag\n",
      "7 steal\n",
      "8 life\n",
      "9 like\n",
      "10 see\n"
     ]
    }
   ],
   "source": [
    "dictionary = gensim.corpora.Dictionary(processed_docs)\n",
    "count = 0\n",
    "for k, v in dictionary.iteritems():\n",
    "    print(k, v)\n",
    "    count += 1\n",
    "    if count > 10:\n",
    "        break\n"
   ]
  },
  {
   "cell_type": "code",
   "execution_count": 61,
   "metadata": {},
   "outputs": [],
   "source": [
    "dictionary.filter_extremes(no_below=15, no_above=0.5, keep_n=100000)"
   ]
  },
  {
   "cell_type": "code",
   "execution_count": 63,
   "metadata": {},
   "outputs": [
    {
     "data": {
      "text/plain": [
       "[(14, 1), (69, 1), (73, 1), (238, 1), (366, 1), (984, 1)]"
      ]
     },
     "execution_count": 63,
     "metadata": {},
     "output_type": "execute_result"
    }
   ],
   "source": [
    "bow_corpus = [dictionary.doc2bow(doc) for doc in processed_docs]\n",
    "bow_corpus[4314]"
   ]
  },
  {
   "cell_type": "code",
   "execution_count": 70,
   "metadata": {},
   "outputs": [
    {
     "name": "stdout",
     "output_type": "stream",
     "text": [
      "[(0, 0.3147120392948506),\n",
      " (1, 0.38853777590302263),\n",
      " (2, 0.15560655932944373),\n",
      " (3, 0.5936750852891856),\n",
      " (4, 0.3699308164512512),\n",
      " (5, 0.37194195201250624),\n",
      " (6, 0.31327559144079)]\n"
     ]
    }
   ],
   "source": [
    "from gensim import corpora, models\n",
    "tfidf = models.TfidfModel(bow_corpus)\n",
    "corpus_tfidf = tfidf[bow_corpus]\n",
    "from pprint import pprint\n",
    "for doc in corpus_tfidf:\n",
    "    pprint(doc)\n",
    "    break"
   ]
  },
  {
   "cell_type": "code",
   "execution_count": 71,
   "metadata": {},
   "outputs": [],
   "source": [
    "lda_model = gensim.models.LdaMulticore(bow_corpus, num_topics=10, id2word=dictionary, passes=2, workers=2)"
   ]
  },
  {
   "cell_type": "code",
   "execution_count": 72,
   "metadata": {},
   "outputs": [
    {
     "name": "stdout",
     "output_type": "stream",
     "text": [
      "Topic: 0 \n",
      "Words: 0.063*\"know\" + 0.029*\"father\" + 0.026*\"king\" + 0.023*\"dead\" + 0.022*\"lord\" + 0.017*\"hous\" + 0.016*\"lannist\" + 0.016*\"stark\" + 0.015*\"dont\" + 0.014*\"son\"\n",
      "Topic: 1 \n",
      "Words: 0.038*\"tell\" + 0.023*\"like\" + 0.018*\"oh\" + 0.013*\"your\" + 0.013*\"grace\" + 0.013*\"that\" + 0.013*\"cours\" + 0.012*\"get\" + 0.011*\"father\" + 0.011*\"come\"\n",
      "Topic: 2 \n",
      "Words: 0.036*\"like\" + 0.032*\"im\" + 0.029*\"go\" + 0.029*\"ye\" + 0.025*\"ladi\" + 0.017*\"time\" + 0.016*\"ll\" + 0.014*\"know\" + 0.013*\"queen\" + 0.012*\"trust\"\n",
      "Topic: 3 \n",
      "Words: 0.027*\"think\" + 0.019*\"walk\" + 0.018*\"take\" + 0.017*\"she\" + 0.016*\"happen\" + 0.014*\"maester\" + 0.014*\"lord\" + 0.013*\"meet\" + 0.013*\"queen\" + 0.012*\"command\"\n",
      "Topic: 4 \n",
      "Words: 0.057*\"come\" + 0.030*\"look\" + 0.018*\"turn\" + 0.017*\"stop\" + 0.016*\"let\" + 0.016*\"want\" + 0.015*\"ser\" + 0.013*\"mean\" + 0.013*\"stark\" + 0.012*\"hodor\"\n",
      "Topic: 5 \n",
      "Words: 0.027*\"need\" + 0.024*\"help\" + 0.017*\"dragon\" + 0.017*\"die\" + 0.017*\"littl\" + 0.015*\"look\" + 0.014*\"daeneri\" + 0.013*\"want\" + 0.012*\"im\" + 0.011*\"ve\"\n",
      "Topic: 6 \n",
      "Words: 0.029*\"lord\" + 0.028*\"grace\" + 0.024*\"love\" + 0.021*\"jon\" + 0.019*\"god\" + 0.017*\"know\" + 0.017*\"snow\" + 0.016*\"tri\" + 0.015*\"thing\" + 0.013*\"watch\"\n",
      "Topic: 7 \n",
      "Words: 0.043*\"kill\" + 0.032*\"want\" + 0.025*\"good\" + 0.019*\"boy\" + 0.015*\"sword\" + 0.014*\"men\" + 0.014*\"way\" + 0.013*\"fuck\" + 0.013*\"stand\" + 0.013*\"jaim\"\n",
      "Topic: 8 \n",
      "Words: 0.036*\"king\" + 0.035*\"dont\" + 0.020*\"fight\" + 0.019*\"north\" + 0.019*\"he\" + 0.015*\"think\" + 0.014*\"land\" + 0.012*\"man\" + 0.012*\"come\" + 0.011*\"youv\"\n",
      "Topic: 9 \n",
      "Words: 0.030*\"your\" + 0.030*\"right\" + 0.018*\"leav\" + 0.017*\"men\" + 0.015*\"know\" + 0.014*\"man\" + 0.014*\"castl\" + 0.014*\"wall\" + 0.013*\"friend\" + 0.012*\"better\"\n"
     ]
    }
   ],
   "source": [
    "for idx, topic in lda_model.print_topics(-1):\n",
    "    print('Topic: {} \\nWords: {}'.format(idx, topic))"
   ]
  },
  {
   "cell_type": "code",
   "execution_count": 74,
   "metadata": {},
   "outputs": [
    {
     "name": "stdout",
     "output_type": "stream",
     "text": [
      "Topic: 0 \n",
      "Word: 0.024*\"ladi\" + 0.020*\"father\" + 0.017*\"king\" + 0.015*\"boy\" + 0.015*\"say\" + 0.013*\"trust\" + 0.011*\"better\" + 0.011*\"rememb\" + 0.010*\"kill\" + 0.009*\"littl\"\n",
      "Topic: 1 \n",
      "Word: 0.024*\"think\" + 0.023*\"like\" + 0.017*\"dont\" + 0.015*\"im\" + 0.014*\"mean\" + 0.014*\"kill\" + 0.014*\"mother\" + 0.012*\"sorri\" + 0.011*\"brother\" + 0.011*\"want\"\n",
      "Topic: 2 \n",
      "Word: 0.056*\"ye\" + 0.036*\"lord\" + 0.036*\"grace\" + 0.019*\"hodor\" + 0.014*\"good\" + 0.013*\"that\" + 0.009*\"what\" + 0.009*\"there\" + 0.008*\"son\" + 0.007*\"command\"\n",
      "Topic: 3 \n",
      "Word: 0.033*\"want\" + 0.022*\"help\" + 0.014*\"know\" + 0.014*\"queen\" + 0.011*\"love\" + 0.011*\"arya\" + 0.009*\"hurt\" + 0.008*\"sam\" + 0.008*\"wait\" + 0.008*\"see\"\n",
      "Topic: 4 \n",
      "Word: 0.035*\"come\" + 0.019*\"leav\" + 0.015*\"time\" + 0.012*\"lord\" + 0.011*\"jon\" + 0.011*\"north\" + 0.010*\"want\" + 0.009*\"oh\" + 0.008*\"command\" + 0.008*\"god\"\n",
      "Topic: 5 \n",
      "Word: 0.043*\"know\" + 0.016*\"fuck\" + 0.016*\"men\" + 0.013*\"drink\" + 0.013*\"way\" + 0.012*\"talk\" + 0.010*\"thank\" + 0.010*\"didnt\" + 0.009*\"love\" + 0.009*\"like\"\n",
      "Topic: 6 \n",
      "Word: 0.018*\"right\" + 0.013*\"hear\" + 0.012*\"happen\" + 0.011*\"king\" + 0.010*\"understand\" + 0.010*\"girl\" + 0.010*\"dead\" + 0.010*\"believ\" + 0.009*\"he\" + 0.009*\"want\"\n",
      "Topic: 7 \n",
      "Word: 0.020*\"your\" + 0.018*\"die\" + 0.015*\"fight\" + 0.015*\"stark\" + 0.014*\"stop\" + 0.014*\"let\" + 0.010*\"right\" + 0.010*\"watch\" + 0.009*\"sansa\" + 0.009*\"lie\"\n",
      "Topic: 8 \n",
      "Word: 0.020*\"tell\" + 0.017*\"cours\" + 0.012*\"hold\" + 0.011*\"thing\" + 0.010*\"ser\" + 0.009*\"im\" + 0.008*\"jaim\" + 0.008*\"sister\" + 0.008*\"order\" + 0.008*\"princ\"\n",
      "Topic: 9 \n",
      "Word: 0.032*\"dont\" + 0.015*\"know\" + 0.013*\"saw\" + 0.012*\"go\" + 0.011*\"mayb\" + 0.011*\"good\" + 0.010*\"long\" + 0.010*\"time\" + 0.008*\"bite\" + 0.008*\"promis\"\n"
     ]
    }
   ],
   "source": [
    "lda_model_tfidf = gensim.models.LdaMulticore(corpus_tfidf, num_topics=10, id2word=dictionary, passes=2, workers=4)\n",
    "for idx, topic in lda_model_tfidf.print_topics(-1):\n",
    "    print('Topic: {} \\nWord: {}'.format(idx, topic))"
   ]
  },
  {
   "cell_type": "code",
   "execution_count": 75,
   "metadata": {},
   "outputs": [
    {
     "data": {
      "text/plain": [
       "['come', 'help', 'boy', 'man', 'fight', 'free']"
      ]
     },
     "execution_count": 75,
     "metadata": {},
     "output_type": "execute_result"
    }
   ],
   "source": [
    "processed_docs[4314]"
   ]
  },
  {
   "cell_type": "code",
   "execution_count": 76,
   "metadata": {},
   "outputs": [
    {
     "name": "stdout",
     "output_type": "stream",
     "text": [
      "\n",
      "Score: 0.5517072081565857\t \n",
      "Topic: 0.027*\"need\" + 0.024*\"help\" + 0.017*\"dragon\" + 0.017*\"die\" + 0.017*\"littl\" + 0.015*\"look\" + 0.014*\"daeneri\" + 0.013*\"want\" + 0.012*\"im\" + 0.011*\"ve\"\n",
      "\n",
      "Score: 0.33396920561790466\t \n",
      "Topic: 0.057*\"come\" + 0.030*\"look\" + 0.018*\"turn\" + 0.017*\"stop\" + 0.016*\"let\" + 0.016*\"want\" + 0.015*\"ser\" + 0.013*\"mean\" + 0.013*\"stark\" + 0.012*\"hodor\"\n",
      "\n",
      "Score: 0.014292757026851177\t \n",
      "Topic: 0.043*\"kill\" + 0.032*\"want\" + 0.025*\"good\" + 0.019*\"boy\" + 0.015*\"sword\" + 0.014*\"men\" + 0.014*\"way\" + 0.013*\"fuck\" + 0.013*\"stand\" + 0.013*\"jaim\"\n",
      "\n",
      "Score: 0.014292537234723568\t \n",
      "Topic: 0.036*\"like\" + 0.032*\"im\" + 0.029*\"go\" + 0.029*\"ye\" + 0.025*\"ladi\" + 0.017*\"time\" + 0.016*\"ll\" + 0.014*\"know\" + 0.013*\"queen\" + 0.012*\"trust\"\n",
      "\n",
      "Score: 0.014292149804532528\t \n",
      "Topic: 0.030*\"your\" + 0.030*\"right\" + 0.018*\"leav\" + 0.017*\"men\" + 0.015*\"know\" + 0.014*\"man\" + 0.014*\"castl\" + 0.014*\"wall\" + 0.013*\"friend\" + 0.012*\"better\"\n",
      "\n",
      "Score: 0.01429145596921444\t \n",
      "Topic: 0.029*\"lord\" + 0.028*\"grace\" + 0.024*\"love\" + 0.021*\"jon\" + 0.019*\"god\" + 0.017*\"know\" + 0.017*\"snow\" + 0.016*\"tri\" + 0.015*\"thing\" + 0.013*\"watch\"\n",
      "\n",
      "Score: 0.014291105791926384\t \n",
      "Topic: 0.036*\"king\" + 0.035*\"dont\" + 0.020*\"fight\" + 0.019*\"north\" + 0.019*\"he\" + 0.015*\"think\" + 0.014*\"land\" + 0.012*\"man\" + 0.012*\"come\" + 0.011*\"youv\"\n",
      "\n",
      "Score: 0.014289656654000282\t \n",
      "Topic: 0.038*\"tell\" + 0.023*\"like\" + 0.018*\"oh\" + 0.013*\"your\" + 0.013*\"grace\" + 0.013*\"that\" + 0.013*\"cours\" + 0.012*\"get\" + 0.011*\"father\" + 0.011*\"come\"\n",
      "\n",
      "Score: 0.014287322759628296\t \n",
      "Topic: 0.027*\"think\" + 0.019*\"walk\" + 0.018*\"take\" + 0.017*\"she\" + 0.016*\"happen\" + 0.014*\"maester\" + 0.014*\"lord\" + 0.013*\"meet\" + 0.013*\"queen\" + 0.012*\"command\"\n",
      "\n",
      "Score: 0.014286593534052372\t \n",
      "Topic: 0.063*\"know\" + 0.029*\"father\" + 0.026*\"king\" + 0.023*\"dead\" + 0.022*\"lord\" + 0.017*\"hous\" + 0.016*\"lannist\" + 0.016*\"stark\" + 0.015*\"dont\" + 0.014*\"son\"\n"
     ]
    }
   ],
   "source": [
    "for index, score in sorted(lda_model[bow_corpus[4314]], key=lambda tup: -1*tup[1]):\n",
    "    print(\"\\nScore: {}\\t \\nTopic: {}\".format(score, lda_model.print_topic(index, 10)))"
   ]
  },
  {
   "cell_type": "code",
   "execution_count": 77,
   "metadata": {},
   "outputs": [
    {
     "name": "stdout",
     "output_type": "stream",
     "text": [
      "\n",
      "Score: 0.6113854646682739\t \n",
      "Topic: 0.033*\"want\" + 0.022*\"help\" + 0.014*\"know\" + 0.014*\"queen\" + 0.011*\"love\" + 0.011*\"arya\" + 0.009*\"hurt\" + 0.008*\"sam\" + 0.008*\"wait\" + 0.008*\"see\"\n",
      "\n",
      "Score: 0.2742900848388672\t \n",
      "Topic: 0.024*\"ladi\" + 0.020*\"father\" + 0.017*\"king\" + 0.015*\"boy\" + 0.015*\"say\" + 0.013*\"trust\" + 0.011*\"better\" + 0.011*\"rememb\" + 0.010*\"kill\" + 0.009*\"littl\"\n",
      "\n",
      "Score: 0.014293383806943893\t \n",
      "Topic: 0.020*\"your\" + 0.018*\"die\" + 0.015*\"fight\" + 0.015*\"stark\" + 0.014*\"stop\" + 0.014*\"let\" + 0.010*\"right\" + 0.010*\"watch\" + 0.009*\"sansa\" + 0.009*\"lie\"\n",
      "\n",
      "Score: 0.01429283432662487\t \n",
      "Topic: 0.035*\"come\" + 0.019*\"leav\" + 0.015*\"time\" + 0.012*\"lord\" + 0.011*\"jon\" + 0.011*\"north\" + 0.010*\"want\" + 0.009*\"oh\" + 0.008*\"command\" + 0.008*\"god\"\n",
      "\n",
      "Score: 0.014290866442024708\t \n",
      "Topic: 0.043*\"know\" + 0.016*\"fuck\" + 0.016*\"men\" + 0.013*\"drink\" + 0.013*\"way\" + 0.012*\"talk\" + 0.010*\"thank\" + 0.010*\"didnt\" + 0.009*\"love\" + 0.009*\"like\"\n",
      "\n",
      "Score: 0.014290081337094307\t \n",
      "Topic: 0.024*\"think\" + 0.023*\"like\" + 0.017*\"dont\" + 0.015*\"im\" + 0.014*\"mean\" + 0.014*\"kill\" + 0.014*\"mother\" + 0.012*\"sorri\" + 0.011*\"brother\" + 0.011*\"want\"\n",
      "\n",
      "Score: 0.014289726503193378\t \n",
      "Topic: 0.018*\"right\" + 0.013*\"hear\" + 0.012*\"happen\" + 0.011*\"king\" + 0.010*\"understand\" + 0.010*\"girl\" + 0.010*\"dead\" + 0.010*\"believ\" + 0.009*\"he\" + 0.009*\"want\"\n",
      "\n",
      "Score: 0.014289652928709984\t \n",
      "Topic: 0.020*\"tell\" + 0.017*\"cours\" + 0.012*\"hold\" + 0.011*\"thing\" + 0.010*\"ser\" + 0.009*\"im\" + 0.008*\"jaim\" + 0.008*\"sister\" + 0.008*\"order\" + 0.008*\"princ\"\n",
      "\n",
      "Score: 0.01428951881825924\t \n",
      "Topic: 0.032*\"dont\" + 0.015*\"know\" + 0.013*\"saw\" + 0.012*\"go\" + 0.011*\"mayb\" + 0.011*\"good\" + 0.010*\"long\" + 0.010*\"time\" + 0.008*\"bite\" + 0.008*\"promis\"\n",
      "\n",
      "Score: 0.014288426376879215\t \n",
      "Topic: 0.056*\"ye\" + 0.036*\"lord\" + 0.036*\"grace\" + 0.019*\"hodor\" + 0.014*\"good\" + 0.013*\"that\" + 0.009*\"what\" + 0.009*\"there\" + 0.008*\"son\" + 0.007*\"command\"\n"
     ]
    }
   ],
   "source": [
    "for index, score in sorted(lda_model_tfidf[bow_corpus[4314]], key=lambda tup: -1*tup[1]):\n",
    "    print(\"\\nScore: {}\\t \\nTopic: {}\".format(score, lda_model_tfidf.print_topic(index, 10)))"
   ]
  },
  {
   "cell_type": "code",
   "execution_count": null,
   "metadata": {},
   "outputs": [],
   "source": []
  },
  {
   "cell_type": "code",
   "execution_count": null,
   "metadata": {},
   "outputs": [],
   "source": []
  }
 ],
 "metadata": {
  "kernelspec": {
   "display_name": "Python 3",
   "language": "python",
   "name": "python3"
  },
  "language_info": {
   "codemirror_mode": {
    "name": "ipython",
    "version": 3
   },
   "file_extension": ".py",
   "mimetype": "text/x-python",
   "name": "python",
   "nbconvert_exporter": "python",
   "pygments_lexer": "ipython3",
   "version": "3.7.3"
  }
 },
 "nbformat": 4,
 "nbformat_minor": 2
}
