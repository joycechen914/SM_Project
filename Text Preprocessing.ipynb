{
 "cells": [
  {
   "cell_type": "code",
   "execution_count": 1,
   "metadata": {},
   "outputs": [],
   "source": [
    "import pandas as pd\n",
    "import numpy as np\n",
    "import nltk\n",
    "import os\n",
    "import matplotlib as mpl\n",
    "import matplotlib.pyplot as plt\n",
    "import re, string, unicodedata\n",
    "import nltk\n",
    "import contractions\n",
    "import inflect\n",
    "from nltk import word_tokenize, sent_tokenize\n",
    "from nltk.corpus import stopwords\n",
    "from nltk.stem import LancasterStemmer, WordNetLemmatizer\n",
    "import gensim\n",
    "from gensim.utils import simple_preprocess\n",
    "from gensim.parsing.preprocessing import STOPWORDS\n",
    "from nltk.stem.porter import *"
   ]
  },
  {
   "cell_type": "code",
   "execution_count": 2,
   "metadata": {},
   "outputs": [
    {
     "data": {
      "text/html": [
       "<div>\n",
       "<style scoped>\n",
       "    .dataframe tbody tr th:only-of-type {\n",
       "        vertical-align: middle;\n",
       "    }\n",
       "\n",
       "    .dataframe tbody tr th {\n",
       "        vertical-align: top;\n",
       "    }\n",
       "\n",
       "    .dataframe thead th {\n",
       "        text-align: right;\n",
       "    }\n",
       "</style>\n",
       "<table border=\"1\" class=\"dataframe\">\n",
       "  <thead>\n",
       "    <tr style=\"text-align: right;\">\n",
       "      <th></th>\n",
       "      <th>Column1</th>\n",
       "      <th>Season</th>\n",
       "      <th>Episode</th>\n",
       "      <th>Sentence</th>\n",
       "      <th>Name</th>\n",
       "      <th>N_serie</th>\n",
       "      <th>N_Season</th>\n",
       "      <th>Emision Date</th>\n",
       "    </tr>\n",
       "  </thead>\n",
       "  <tbody>\n",
       "    <tr>\n",
       "      <th>0</th>\n",
       "      <td>1</td>\n",
       "      <td>Season 1</td>\n",
       "      <td>winter is coming</td>\n",
       "      <td>What d’you expect? They’re savages One lot ste...</td>\n",
       "      <td>waymar royce</td>\n",
       "      <td>1</td>\n",
       "      <td>1</td>\n",
       "      <td>17/04/2011</td>\n",
       "    </tr>\n",
       "    <tr>\n",
       "      <th>1</th>\n",
       "      <td>2</td>\n",
       "      <td>Season 1</td>\n",
       "      <td>winter is coming</td>\n",
       "      <td>I’ve never seen wildlings do a thing like this...</td>\n",
       "      <td>will</td>\n",
       "      <td>1</td>\n",
       "      <td>1</td>\n",
       "      <td>17/04/2011</td>\n",
       "    </tr>\n",
       "    <tr>\n",
       "      <th>2</th>\n",
       "      <td>3</td>\n",
       "      <td>Season 1</td>\n",
       "      <td>winter is coming</td>\n",
       "      <td>How close did you get?</td>\n",
       "      <td>waymar royce</td>\n",
       "      <td>1</td>\n",
       "      <td>1</td>\n",
       "      <td>17/04/2011</td>\n",
       "    </tr>\n",
       "    <tr>\n",
       "      <th>3</th>\n",
       "      <td>4</td>\n",
       "      <td>Season 1</td>\n",
       "      <td>winter is coming</td>\n",
       "      <td>Close as any man would</td>\n",
       "      <td>will</td>\n",
       "      <td>1</td>\n",
       "      <td>1</td>\n",
       "      <td>17/04/2011</td>\n",
       "    </tr>\n",
       "    <tr>\n",
       "      <th>4</th>\n",
       "      <td>5</td>\n",
       "      <td>Season 1</td>\n",
       "      <td>winter is coming</td>\n",
       "      <td>We should head back to the wall</td>\n",
       "      <td>gared</td>\n",
       "      <td>1</td>\n",
       "      <td>1</td>\n",
       "      <td>17/04/2011</td>\n",
       "    </tr>\n",
       "  </tbody>\n",
       "</table>\n",
       "</div>"
      ],
      "text/plain": [
       "   Column1    Season           Episode  \\\n",
       "0        1  Season 1  winter is coming   \n",
       "1        2  Season 1  winter is coming   \n",
       "2        3  Season 1  winter is coming   \n",
       "3        4  Season 1  winter is coming   \n",
       "4        5  Season 1  winter is coming   \n",
       "\n",
       "                                            Sentence          Name  N_serie  \\\n",
       "0  What d’you expect? They’re savages One lot ste...  waymar royce        1   \n",
       "1  I’ve never seen wildlings do a thing like this...          will        1   \n",
       "2                             How close did you get?  waymar royce        1   \n",
       "3                             Close as any man would          will        1   \n",
       "4                    We should head back to the wall         gared        1   \n",
       "\n",
       "   N_Season Emision Date  \n",
       "0         1   17/04/2011  \n",
       "1         1   17/04/2011  \n",
       "2         1   17/04/2011  \n",
       "3         1   17/04/2011  \n",
       "4         1   17/04/2011  "
      ]
     },
     "execution_count": 2,
     "metadata": {},
     "output_type": "execute_result"
    }
   ],
   "source": [
    "df=pd.read_csv('got_scripts_breakdown.csv', sep=';')\n",
    "df.head()"
   ]
  },
  {
   "cell_type": "code",
   "execution_count": 3,
   "metadata": {},
   "outputs": [
    {
     "name": "stdout",
     "output_type": "stream",
     "text": [
      "22510\n",
      "   index                                           Sentence\n",
      "0      0  What d’you expect? They’re savages One lot ste...\n",
      "1      1  I’ve never seen wildlings do a thing like this...\n",
      "2      2                             How close did you get?\n",
      "3      3                             Close as any man would\n",
      "4      4                    We should head back to the wall\n"
     ]
    }
   ],
   "source": [
    "lines = df[[\"Sentence\"]]\n",
    "lines.reset_index(level=0, inplace=True)\n",
    "documents = lines\n",
    "#lines = ' '.join(lines)\n",
    "\n",
    "print(len(documents))\n",
    "print(documents[:5])"
   ]
  },
  {
   "cell_type": "code",
   "execution_count": 4,
   "metadata": {},
   "outputs": [],
   "source": [
    "def lemmatize_stemming(text):\n",
    "    ps = nltk.porter.PorterStemmer()\n",
    "    text = ' '.join([ps.stem(word) for word in text.split()])\n",
    "    return WordNetLemmatizer().lemmatize(text, pos='v')\n",
    "\n",
    "def preprocess(text):\n",
    "    result = []\n",
    "    for token in gensim.utils.simple_preprocess(text):\n",
    "        if token not in gensim.parsing.preprocessing.STOPWORDS:\n",
    "            result.append(lemmatize_stemming(token))\n",
    "    return result"
   ]
  },
  {
   "cell_type": "code",
   "execution_count": 5,
   "metadata": {},
   "outputs": [
    {
     "name": "stdout",
     "output_type": "stream",
     "text": [
      "original document: \n",
      "['Come', 'back', 'here!', 'Help', 'us,', 'boy!', 'A', 'man', 'can', 'fight!', 'Free', 'us']\n",
      "\n",
      "\n",
      " tokenized and lemmatized document: \n",
      "['come', 'help', 'boy', 'man', 'fight', 'free']\n"
     ]
    }
   ],
   "source": [
    "doc_sample = documents[documents['index'] == 4314].values[0][1]\n",
    "print('original document: ')\n",
    "words = []\n",
    "for word in doc_sample.split(' '):\n",
    "    words.append(word)\n",
    "print(words)\n",
    "print('\\n\\n tokenized and lemmatized document: ')\n",
    "print(preprocess(doc_sample))\n",
    "    "
   ]
  },
  {
   "cell_type": "code",
   "execution_count": 6,
   "metadata": {},
   "outputs": [
    {
     "data": {
      "text/plain": [
       "0    [expect, savag, lot, steal, goat, lot, know, r...\n",
       "1    [ve, see, wildl, thing, like, ve, see, thing, ...\n",
       "2                                              [close]\n",
       "3                                         [close, man]\n",
       "4                                         [head, wall]\n",
       "5                                     [dead, frighten]\n",
       "6            [order, track, wildl, track, win, troubl]\n",
       "7                          [think, ll, ask, die, hors]\n",
       "8                                     [kill, children]\n",
       "9    [good, thing, children, want, run, away, south...\n",
       "Name: Sentence, dtype: object"
      ]
     },
     "execution_count": 6,
     "metadata": {},
     "output_type": "execute_result"
    }
   ],
   "source": [
    "processed_docs = documents['Sentence'].map(preprocess)\n",
    "processed_docs[:10]"
   ]
  },
  {
   "cell_type": "code",
   "execution_count": 7,
   "metadata": {},
   "outputs": [
    {
     "name": "stdout",
     "output_type": "stream",
     "text": [
      "0 expect\n",
      "1 goat\n",
      "2 know\n",
      "3 lot\n",
      "4 piec\n",
      "5 rip\n",
      "6 savag\n",
      "7 steal\n",
      "8 life\n",
      "9 like\n",
      "10 see\n"
     ]
    }
   ],
   "source": [
    "dictionary = gensim.corpora.Dictionary(processed_docs)\n",
    "count = 0\n",
    "for k, v in dictionary.iteritems():\n",
    "    print(k, v)\n",
    "    count += 1\n",
    "    if count > 10:\n",
    "        break\n"
   ]
  },
  {
   "cell_type": "code",
   "execution_count": 28,
   "metadata": {},
   "outputs": [],
   "source": [
    "# dictionary.filter_extremes(no_below=15, no_above=0.5, keep_n=100000)"
   ]
  },
  {
   "cell_type": "code",
   "execution_count": 8,
   "metadata": {},
   "outputs": [
    {
     "data": {
      "text/plain": [
       "[(15, 1), (78, 1), (82, 1), (277, 1), (455, 1), (1903, 1)]"
      ]
     },
     "execution_count": 8,
     "metadata": {},
     "output_type": "execute_result"
    }
   ],
   "source": [
    "bow_corpus = [dictionary.doc2bow(doc) for doc in processed_docs]\n",
    "bow_corpus[4314]"
   ]
  },
  {
   "cell_type": "code",
   "execution_count": 9,
   "metadata": {},
   "outputs": [
    {
     "name": "stdout",
     "output_type": "stream",
     "text": [
      "[(0, 0.2904910605228106),\n",
      " (1, 0.35863499479757566),\n",
      " (2, 0.1436307125243663),\n",
      " (3, 0.5479844543540072),\n",
      " (4, 0.3414600707102706),\n",
      " (5, 0.3847096314396112),\n",
      " (6, 0.3433164245483797),\n",
      " (7, 0.28916516507423884)]\n"
     ]
    }
   ],
   "source": [
    "from gensim import corpora, models\n",
    "tfidf = models.TfidfModel(bow_corpus)\n",
    "corpus_tfidf = tfidf[bow_corpus]\n",
    "from pprint import pprint\n",
    "for doc in corpus_tfidf:\n",
    "    pprint(doc)\n",
    "    break"
   ]
  },
  {
   "cell_type": "code",
   "execution_count": 10,
   "metadata": {},
   "outputs": [],
   "source": [
    "lda_model = gensim.models.LdaMulticore(bow_corpus, num_topics=10, id2word=dictionary, passes=2, workers=2)"
   ]
  },
  {
   "cell_type": "code",
   "execution_count": 11,
   "metadata": {},
   "outputs": [
    {
     "name": "stdout",
     "output_type": "stream",
     "text": [
      "Topic: 0 \n",
      "Words: 0.060*\"know\" + 0.030*\"im\" + 0.021*\"jon\" + 0.019*\"come\" + 0.011*\"take\" + 0.010*\"snow\" + 0.008*\"mean\" + 0.008*\"peopl\" + 0.008*\"queen\" + 0.007*\"man\"\n",
      "Topic: 1 \n",
      "Words: 0.033*\"need\" + 0.026*\"ye\" + 0.020*\"help\" + 0.017*\"leav\" + 0.014*\"want\" + 0.014*\"lord\" + 0.012*\"thank\" + 0.011*\"cours\" + 0.010*\"men\" + 0.010*\"time\"\n",
      "Topic: 2 \n",
      "Words: 0.027*\"good\" + 0.017*\"wall\" + 0.016*\"go\" + 0.015*\"way\" + 0.014*\"night\" + 0.014*\"say\" + 0.013*\"walk\" + 0.012*\"believ\" + 0.012*\"get\" + 0.012*\"dead\"\n",
      "Topic: 3 \n",
      "Words: 0.021*\"like\" + 0.019*\"look\" + 0.015*\"let\" + 0.013*\"hear\" + 0.013*\"want\" + 0.011*\"queen\" + 0.011*\"arya\" + 0.010*\"stop\" + 0.010*\"die\" + 0.010*\"think\"\n",
      "Topic: 4 \n",
      "Words: 0.024*\"tell\" + 0.024*\"north\" + 0.018*\"king\" + 0.016*\"stark\" + 0.011*\"kill\" + 0.011*\"know\" + 0.011*\"he\" + 0.010*\"lord\" + 0.010*\"serv\" + 0.009*\"war\"\n",
      "Topic: 5 \n",
      "Words: 0.033*\"king\" + 0.018*\"land\" + 0.014*\"love\" + 0.014*\"girl\" + 0.013*\"brother\" + 0.011*\"saw\" + 0.011*\"sister\" + 0.010*\"boy\" + 0.009*\"rememb\" + 0.008*\"that\"\n",
      "Topic: 6 \n",
      "Words: 0.024*\"kill\" + 0.016*\"ask\" + 0.015*\"drink\" + 0.014*\"tell\" + 0.012*\"oh\" + 0.010*\"forgiv\" + 0.010*\"long\" + 0.010*\"seven\" + 0.009*\"im\" + 0.008*\"wine\"\n",
      "Topic: 7 \n",
      "Words: 0.053*\"dont\" + 0.030*\"want\" + 0.027*\"lord\" + 0.026*\"grace\" + 0.026*\"think\" + 0.022*\"know\" + 0.016*\"ser\" + 0.015*\"fuck\" + 0.014*\"like\" + 0.010*\"love\"\n",
      "Topic: 8 \n",
      "Words: 0.032*\"come\" + 0.028*\"men\" + 0.014*\"hand\" + 0.012*\"your\" + 0.011*\"king\" + 0.009*\"hold\" + 0.009*\"fight\" + 0.008*\"protect\" + 0.008*\"want\" + 0.008*\"end\"\n",
      "Topic: 9 \n",
      "Words: 0.019*\"father\" + 0.017*\"ladi\" + 0.014*\"sansa\" + 0.013*\"want\" + 0.011*\"know\" + 0.010*\"master\" + 0.009*\"happen\" + 0.009*\"stay\" + 0.009*\"mother\" + 0.009*\"your\"\n"
     ]
    }
   ],
   "source": [
    "for idx, topic in lda_model.print_topics(-1):\n",
    "    print('Topic: {} \\nWords: {}'.format(idx, topic))"
   ]
  },
  {
   "cell_type": "code",
   "execution_count": 12,
   "metadata": {},
   "outputs": [
    {
     "name": "stdout",
     "output_type": "stream",
     "text": [
      "Topic: 0 \n",
      "Word: 0.022*\"come\" + 0.011*\"fight\" + 0.009*\"time\" + 0.009*\"go\" + 0.009*\"father\" + 0.009*\"love\" + 0.007*\"want\" + 0.007*\"know\" + 0.007*\"ve\" + 0.007*\"your\"\n",
      "Topic: 1 \n",
      "Word: 0.013*\"like\" + 0.009*\"girl\" + 0.009*\"happen\" + 0.008*\"lord\" + 0.008*\"command\" + 0.008*\"ask\" + 0.008*\"need\" + 0.007*\"ll\" + 0.006*\"your\" + 0.006*\"right\"\n",
      "Topic: 2 \n",
      "Word: 0.016*\"king\" + 0.013*\"die\" + 0.011*\"mother\" + 0.009*\"im\" + 0.008*\"dont\" + 0.008*\"north\" + 0.008*\"believ\" + 0.008*\"take\" + 0.008*\"dead\" + 0.007*\"sam\"\n",
      "Topic: 3 \n",
      "Word: 0.022*\"dont\" + 0.018*\"want\" + 0.015*\"good\" + 0.013*\"hear\" + 0.013*\"right\" + 0.010*\"man\" + 0.009*\"father\" + 0.009*\"say\" + 0.008*\"come\" + 0.008*\"that\"\n",
      "Topic: 4 \n",
      "Word: 0.032*\"know\" + 0.013*\"kill\" + 0.010*\"ll\" + 0.009*\"lord\" + 0.006*\"lannist\" + 0.006*\"speak\" + 0.006*\"tell\" + 0.006*\"saw\" + 0.006*\"winterfel\" + 0.006*\"head\"\n",
      "Topic: 5 \n",
      "Word: 0.015*\"leav\" + 0.013*\"help\" + 0.009*\"talk\" + 0.009*\"stark\" + 0.008*\"your\" + 0.007*\"home\" + 0.007*\"want\" + 0.007*\"wait\" + 0.007*\"know\" + 0.006*\"dont\"\n",
      "Topic: 6 \n",
      "Word: 0.030*\"ye\" + 0.020*\"lord\" + 0.015*\"tell\" + 0.014*\"oh\" + 0.011*\"hodor\" + 0.010*\"thank\" + 0.009*\"jon\" + 0.007*\"snow\" + 0.006*\"sansa\" + 0.006*\"boy\"\n",
      "Topic: 7 \n",
      "Word: 0.011*\"fuck\" + 0.011*\"ladi\" + 0.011*\"way\" + 0.009*\"didnt\" + 0.009*\"need\" + 0.008*\"lie\" + 0.008*\"im\" + 0.007*\"sorri\" + 0.007*\"stanni\" + 0.007*\"let\"\n",
      "Topic: 8 \n",
      "Word: 0.019*\"think\" + 0.017*\"grace\" + 0.012*\"want\" + 0.010*\"queen\" + 0.009*\"look\" + 0.008*\"brother\" + 0.007*\"dont\" + 0.007*\"promis\" + 0.006*\"drink\" + 0.006*\"like\"\n",
      "Topic: 9 \n",
      "Word: 0.015*\"cours\" + 0.014*\"know\" + 0.013*\"mean\" + 0.009*\"stop\" + 0.008*\"protect\" + 0.008*\"thing\" + 0.007*\"there\" + 0.007*\"famili\" + 0.007*\"stand\" + 0.006*\"come\"\n"
     ]
    }
   ],
   "source": [
    "lda_model_tfidf = gensim.models.LdaMulticore(corpus_tfidf, num_topics=10, id2word=dictionary, passes=2, workers=4)\n",
    "for idx, topic in lda_model_tfidf.print_topics(-1):\n",
    "    print('Topic: {} \\nWord: {}'.format(idx, topic))"
   ]
  },
  {
   "cell_type": "code",
   "execution_count": 13,
   "metadata": {},
   "outputs": [
    {
     "data": {
      "text/plain": [
       "['come', 'help', 'boy', 'man', 'fight', 'free']"
      ]
     },
     "execution_count": 13,
     "metadata": {},
     "output_type": "execute_result"
    }
   ],
   "source": [
    "processed_docs[4314]"
   ]
  },
  {
   "cell_type": "code",
   "execution_count": 14,
   "metadata": {},
   "outputs": [
    {
     "name": "stdout",
     "output_type": "stream",
     "text": [
      "\n",
      "Score: 0.8713999390602112\t \n",
      "Topic: 0.033*\"need\" + 0.026*\"ye\" + 0.020*\"help\" + 0.017*\"leav\" + 0.014*\"want\" + 0.014*\"lord\" + 0.012*\"thank\" + 0.011*\"cours\" + 0.010*\"men\" + 0.010*\"time\"\n",
      "\n",
      "Score: 0.01429202500730753\t \n",
      "Topic: 0.032*\"come\" + 0.028*\"men\" + 0.014*\"hand\" + 0.012*\"your\" + 0.011*\"king\" + 0.009*\"hold\" + 0.009*\"fight\" + 0.008*\"protect\" + 0.008*\"want\" + 0.008*\"end\"\n",
      "\n",
      "Score: 0.014289546757936478\t \n",
      "Topic: 0.033*\"king\" + 0.018*\"land\" + 0.014*\"love\" + 0.014*\"girl\" + 0.013*\"brother\" + 0.011*\"saw\" + 0.011*\"sister\" + 0.010*\"boy\" + 0.009*\"rememb\" + 0.008*\"that\"\n",
      "\n",
      "Score: 0.01428940985351801\t \n",
      "Topic: 0.060*\"know\" + 0.030*\"im\" + 0.021*\"jon\" + 0.019*\"come\" + 0.011*\"take\" + 0.010*\"snow\" + 0.008*\"mean\" + 0.008*\"peopl\" + 0.008*\"queen\" + 0.007*\"man\"\n",
      "\n",
      "Score: 0.014288964681327343\t \n",
      "Topic: 0.024*\"tell\" + 0.024*\"north\" + 0.018*\"king\" + 0.016*\"stark\" + 0.011*\"kill\" + 0.011*\"know\" + 0.011*\"he\" + 0.010*\"lord\" + 0.010*\"serv\" + 0.009*\"war\"\n",
      "\n",
      "Score: 0.014288806356489658\t \n",
      "Topic: 0.027*\"good\" + 0.017*\"wall\" + 0.016*\"go\" + 0.015*\"way\" + 0.014*\"night\" + 0.014*\"say\" + 0.013*\"walk\" + 0.012*\"believ\" + 0.012*\"get\" + 0.012*\"dead\"\n",
      "\n",
      "Score: 0.014288300648331642\t \n",
      "Topic: 0.019*\"father\" + 0.017*\"ladi\" + 0.014*\"sansa\" + 0.013*\"want\" + 0.011*\"know\" + 0.010*\"master\" + 0.009*\"happen\" + 0.009*\"stay\" + 0.009*\"mother\" + 0.009*\"your\"\n",
      "\n",
      "Score: 0.014288108795881271\t \n",
      "Topic: 0.021*\"like\" + 0.019*\"look\" + 0.015*\"let\" + 0.013*\"hear\" + 0.013*\"want\" + 0.011*\"queen\" + 0.011*\"arya\" + 0.010*\"stop\" + 0.010*\"die\" + 0.010*\"think\"\n",
      "\n",
      "Score: 0.01428756583482027\t \n",
      "Topic: 0.053*\"dont\" + 0.030*\"want\" + 0.027*\"lord\" + 0.026*\"grace\" + 0.026*\"think\" + 0.022*\"know\" + 0.016*\"ser\" + 0.015*\"fuck\" + 0.014*\"like\" + 0.010*\"love\"\n",
      "\n",
      "Score: 0.014287310652434826\t \n",
      "Topic: 0.024*\"kill\" + 0.016*\"ask\" + 0.015*\"drink\" + 0.014*\"tell\" + 0.012*\"oh\" + 0.010*\"forgiv\" + 0.010*\"long\" + 0.010*\"seven\" + 0.009*\"im\" + 0.008*\"wine\"\n"
     ]
    }
   ],
   "source": [
    "for index, score in sorted(lda_model[bow_corpus[4314]], key=lambda tup: -1*tup[1]):\n",
    "    print(\"\\nScore: {}\\t \\nTopic: {}\".format(score, lda_model.print_topic(index, 10)))"
   ]
  },
  {
   "cell_type": "code",
   "execution_count": 15,
   "metadata": {},
   "outputs": [
    {
     "name": "stdout",
     "output_type": "stream",
     "text": [
      "\n",
      "Score: 0.8713904023170471\t \n",
      "Topic: 0.022*\"come\" + 0.011*\"fight\" + 0.009*\"time\" + 0.009*\"go\" + 0.009*\"father\" + 0.009*\"love\" + 0.007*\"want\" + 0.007*\"know\" + 0.007*\"ve\" + 0.007*\"your\"\n",
      "\n",
      "Score: 0.014298840425908566\t \n",
      "Topic: 0.015*\"leav\" + 0.013*\"help\" + 0.009*\"talk\" + 0.009*\"stark\" + 0.008*\"your\" + 0.007*\"home\" + 0.007*\"want\" + 0.007*\"wait\" + 0.007*\"know\" + 0.006*\"dont\"\n",
      "\n",
      "Score: 0.014290248043835163\t \n",
      "Topic: 0.030*\"ye\" + 0.020*\"lord\" + 0.015*\"tell\" + 0.014*\"oh\" + 0.011*\"hodor\" + 0.010*\"thank\" + 0.009*\"jon\" + 0.007*\"snow\" + 0.006*\"sansa\" + 0.006*\"boy\"\n",
      "\n",
      "Score: 0.014290128834545612\t \n",
      "Topic: 0.022*\"dont\" + 0.018*\"want\" + 0.015*\"good\" + 0.013*\"hear\" + 0.013*\"right\" + 0.010*\"man\" + 0.009*\"father\" + 0.009*\"say\" + 0.008*\"come\" + 0.008*\"that\"\n",
      "\n",
      "Score: 0.01428909134119749\t \n",
      "Topic: 0.013*\"like\" + 0.009*\"girl\" + 0.009*\"happen\" + 0.008*\"lord\" + 0.008*\"command\" + 0.008*\"ask\" + 0.008*\"need\" + 0.007*\"ll\" + 0.006*\"your\" + 0.006*\"right\"\n",
      "\n",
      "Score: 0.014289065264165401\t \n",
      "Topic: 0.016*\"king\" + 0.013*\"die\" + 0.011*\"mother\" + 0.009*\"im\" + 0.008*\"dont\" + 0.008*\"north\" + 0.008*\"believ\" + 0.008*\"take\" + 0.008*\"dead\" + 0.007*\"sam\"\n",
      "\n",
      "Score: 0.014288501814007759\t \n",
      "Topic: 0.015*\"cours\" + 0.014*\"know\" + 0.013*\"mean\" + 0.009*\"stop\" + 0.008*\"protect\" + 0.008*\"thing\" + 0.007*\"there\" + 0.007*\"famili\" + 0.007*\"stand\" + 0.006*\"come\"\n",
      "\n",
      "Score: 0.014288156293332577\t \n",
      "Topic: 0.019*\"think\" + 0.017*\"grace\" + 0.012*\"want\" + 0.010*\"queen\" + 0.009*\"look\" + 0.008*\"brother\" + 0.007*\"dont\" + 0.007*\"promis\" + 0.006*\"drink\" + 0.006*\"like\"\n",
      "\n",
      "Score: 0.014288012869656086\t \n",
      "Topic: 0.032*\"know\" + 0.013*\"kill\" + 0.010*\"ll\" + 0.009*\"lord\" + 0.006*\"lannist\" + 0.006*\"speak\" + 0.006*\"tell\" + 0.006*\"saw\" + 0.006*\"winterfel\" + 0.006*\"head\"\n",
      "\n",
      "Score: 0.014287575148046017\t \n",
      "Topic: 0.011*\"fuck\" + 0.011*\"ladi\" + 0.011*\"way\" + 0.009*\"didnt\" + 0.009*\"need\" + 0.008*\"lie\" + 0.008*\"im\" + 0.007*\"sorri\" + 0.007*\"stanni\" + 0.007*\"let\"\n"
     ]
    }
   ],
   "source": [
    "for index, score in sorted(lda_model_tfidf[bow_corpus[4314]], key=lambda tup: -1*tup[1]):\n",
    "    print(\"\\nScore: {}\\t \\nTopic: {}\".format(score, lda_model_tfidf.print_topic(index, 10)))"
   ]
  },
  {
   "cell_type": "code",
   "execution_count": null,
   "metadata": {},
   "outputs": [],
   "source": []
  },
  {
   "cell_type": "code",
   "execution_count": null,
   "metadata": {},
   "outputs": [],
   "source": []
  }
 ],
 "metadata": {
  "kernelspec": {
   "display_name": "Python 3",
   "language": "python",
   "name": "python3"
  },
  "language_info": {
   "codemirror_mode": {
    "name": "ipython",
    "version": 3
   },
   "file_extension": ".py",
   "mimetype": "text/x-python",
   "name": "python",
   "nbconvert_exporter": "python",
   "pygments_lexer": "ipython3",
   "version": "3.7.3"
  }
 },
 "nbformat": 4,
 "nbformat_minor": 2
}
